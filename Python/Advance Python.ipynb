{
 "cells": [
  {
   "cell_type": "markdown",
   "id": "faa0f68b",
   "metadata": {},
   "source": [
    "## Function"
   ]
  },
  {
   "cell_type": "code",
   "execution_count": 1,
   "id": "6cb3d70c",
   "metadata": {},
   "outputs": [
    {
     "name": "stdout",
     "output_type": "stream",
     "text": [
      "56 53\n"
     ]
    }
   ],
   "source": [
    "## If conditions  and for loops\n",
    "\n",
    "lst=[1,2,3,4,5,6,7,8,9,10,12,13,14,15]\n",
    "\n",
    "even_sum=0\n",
    "odd_sum=0\n",
    "for i in lst:\n",
    "    if i%2==0:\n",
    "        even_sum=even_sum+i\n",
    "    else:\n",
    "        odd_sum=odd_sum+i\n",
    "print(even_sum,odd_sum)\n",
    "        "
   ]
  },
  {
   "cell_type": "code",
   "execution_count": 2,
   "id": "8e182677",
   "metadata": {},
   "outputs": [],
   "source": [
    "def temp(a, age=23):\n",
    "    print('My name is {} and i am {} years old'.format(a,age))"
   ]
  },
  {
   "cell_type": "code",
   "execution_count": 3,
   "id": "0ef877eb",
   "metadata": {},
   "outputs": [
    {
     "name": "stdout",
     "output_type": "stream",
     "text": [
      "My name is sa and i am 23 years old\n"
     ]
    }
   ],
   "source": [
    "temp('sa')"
   ]
  },
  {
   "cell_type": "code",
   "execution_count": 19,
   "id": "8a8ef9fd",
   "metadata": {},
   "outputs": [],
   "source": [
    "def temp1(*args, **kwargs):  # so * will present position argument and ** will present the keyword argument\n",
    "    print(args)\n",
    "    print(kwargs)"
   ]
  },
  {
   "cell_type": "code",
   "execution_count": 20,
   "id": "972a2a54",
   "metadata": {},
   "outputs": [
    {
     "name": "stdout",
     "output_type": "stream",
     "text": [
      "(24, 'fs')\n",
      "{'age': 29, 'city': 'Madrid'}\n"
     ]
    }
   ],
   "source": [
    "temp1(24,'fs',age=29,city='Madrid') # Keyword argument are the ones in which we already specific value to argument "
   ]
  },
  {
   "cell_type": "code",
   "execution_count": 32,
   "id": "048afbe4",
   "metadata": {},
   "outputs": [],
   "source": [
    "def temp2(*dep, **kde):  # so * will present position argument and ** will present the keyword argument\n",
    "    print(dep)\n",
    "    print(*kde)  # we can give any name just that we need to give * and **"
   ]
  },
  {
   "cell_type": "code",
   "execution_count": 33,
   "id": "d6490a8e",
   "metadata": {},
   "outputs": [
    {
     "name": "stdout",
     "output_type": "stream",
     "text": [
      "(24, 'sfasfa')\n",
      "age city\n"
     ]
    }
   ],
   "source": [
    "temp2(24,'sfasfa',age=22,city='Madrid')"
   ]
  },
  {
   "cell_type": "markdown",
   "id": "d374303a",
   "metadata": {},
   "source": [
    "# Lambda Function\n",
    "\n",
    "This is faster than the normal function and has no name. This is useful if we have single line to return\n"
   ]
  },
  {
   "cell_type": "code",
   "execution_count": 35,
   "id": "80f3f675",
   "metadata": {},
   "outputs": [],
   "source": [
    "def add(a,b):\n",
    "    return a+b"
   ]
  },
  {
   "cell_type": "code",
   "execution_count": 36,
   "id": "bfa30c15",
   "metadata": {},
   "outputs": [
    {
     "data": {
      "text/plain": [
       "10"
      ]
     },
     "execution_count": 36,
     "metadata": {},
     "output_type": "execute_result"
    }
   ],
   "source": [
    "add(5,5)"
   ]
  },
  {
   "cell_type": "code",
   "execution_count": 37,
   "id": "8715060c",
   "metadata": {},
   "outputs": [],
   "source": [
    "add=lambda a,b:a*b"
   ]
  },
  {
   "cell_type": "code",
   "execution_count": 38,
   "id": "21b10262",
   "metadata": {},
   "outputs": [
    {
     "data": {
      "text/plain": [
       "8"
      ]
     },
     "execution_count": 38,
     "metadata": {},
     "output_type": "execute_result"
    }
   ],
   "source": [
    "add(2,4)"
   ]
  },
  {
   "cell_type": "code",
   "execution_count": 39,
   "id": "f4f9661e",
   "metadata": {},
   "outputs": [],
   "source": [
    "even= lambda num: num%2==0"
   ]
  },
  {
   "cell_type": "code",
   "execution_count": 40,
   "id": "e7fe4574",
   "metadata": {},
   "outputs": [
    {
     "data": {
      "text/plain": [
       "True"
      ]
     },
     "execution_count": 40,
     "metadata": {},
     "output_type": "execute_result"
    }
   ],
   "source": [
    "even(4)"
   ]
  },
  {
   "cell_type": "code",
   "execution_count": 41,
   "id": "47711433",
   "metadata": {},
   "outputs": [],
   "source": [
    "add3num =lambda a,b,c: a+b+c"
   ]
  },
  {
   "cell_type": "code",
   "execution_count": 42,
   "id": "809c1873",
   "metadata": {},
   "outputs": [
    {
     "data": {
      "text/plain": [
       "11"
      ]
     },
     "execution_count": 42,
     "metadata": {},
     "output_type": "execute_result"
    }
   ],
   "source": [
    "add3num(4,5,2)"
   ]
  },
  {
   "cell_type": "markdown",
   "id": "5b7a6c59",
   "metadata": {},
   "source": [
    "# Map Function"
   ]
  },
  {
   "cell_type": "code",
   "execution_count": 44,
   "id": "cd276a68",
   "metadata": {},
   "outputs": [],
   "source": [
    "def square(num):\n",
    "    if num%2==0:\n",
    "        return '{} is even'.format(num),num*num\n",
    "    else:\n",
    "        return '{} is odd'.format(num),num"
   ]
  },
  {
   "cell_type": "code",
   "execution_count": 46,
   "id": "7256841f",
   "metadata": {},
   "outputs": [],
   "source": [
    "lst=[2,4,1,3,9,10,59,17]"
   ]
  },
  {
   "cell_type": "code",
   "execution_count": 48,
   "id": "9f1119de",
   "metadata": {},
   "outputs": [
    {
     "data": {
      "text/plain": [
       "[('2 is even', 4),\n",
       " ('4 is even', 16),\n",
       " ('1 is odd', 1),\n",
       " ('3 is odd', 3),\n",
       " ('9 is odd', 9),\n",
       " ('10 is even', 100),\n",
       " ('59 is odd', 59),\n",
       " ('17 is odd', 17)]"
      ]
     },
     "execution_count": 48,
     "metadata": {},
     "output_type": "execute_result"
    }
   ],
   "source": [
    "list(map(square,lst)) # list will convert the map output into list "
   ]
  },
  {
   "cell_type": "code",
   "execution_count": null,
   "id": "6292a775",
   "metadata": {},
   "outputs": [],
   "source": []
  },
  {
   "cell_type": "markdown",
   "id": "08d99429",
   "metadata": {},
   "source": [
    "# Filter Function"
   ]
  },
  {
   "cell_type": "code",
   "execution_count": 72,
   "id": "8e28012a",
   "metadata": {},
   "outputs": [],
   "source": [
    "def multiple(num):\n",
    "    if num%2==0:\n",
    "        return True\n",
    "    "
   ]
  },
  {
   "cell_type": "code",
   "execution_count": 73,
   "id": "8ed76dcb",
   "metadata": {},
   "outputs": [],
   "source": [
    "lst=[1,2,3,4,5,6,7,8,0]"
   ]
  },
  {
   "cell_type": "code",
   "execution_count": 74,
   "id": "2876002b",
   "metadata": {},
   "outputs": [
    {
     "data": {
      "text/plain": [
       "[2, 4, 6, 8, 0]"
      ]
     },
     "execution_count": 74,
     "metadata": {},
     "output_type": "execute_result"
    }
   ],
   "source": [
    "list(filter(multiple,lst)) #filter elements which odds condiction true"
   ]
  },
  {
   "cell_type": "code",
   "execution_count": null,
   "id": "34469883",
   "metadata": {},
   "outputs": [],
   "source": []
  },
  {
   "cell_type": "markdown",
   "id": "e5fcbafb",
   "metadata": {},
   "source": [
    "# List comprehension\n",
    "\n",
    "It is a concise way of creating a list."
   ]
  },
  {
   "cell_type": "code",
   "execution_count": 75,
   "id": "d19d0359",
   "metadata": {},
   "outputs": [],
   "source": [
    "# Syntax [expression followed by for caluse, then zero or more for or if caluses]\n",
    "\n",
    "\n",
    "lst=[2,3,5,6,78,4]"
   ]
  },
  {
   "cell_type": "code",
   "execution_count": 76,
   "id": "1289d12e",
   "metadata": {},
   "outputs": [
    {
     "data": {
      "text/plain": [
       "[4, 36, 6084, 16]"
      ]
     },
     "execution_count": 76,
     "metadata": {},
     "output_type": "execute_result"
    }
   ],
   "source": [
    "[i*i for i in lst if i%2==0]"
   ]
  },
  {
   "cell_type": "code",
   "execution_count": 81,
   "id": "935ff960",
   "metadata": {},
   "outputs": [],
   "source": [
    "lst12=[i*i for i in lst]"
   ]
  },
  {
   "cell_type": "code",
   "execution_count": 82,
   "id": "e3a7e9c2",
   "metadata": {},
   "outputs": [
    {
     "data": {
      "text/plain": [
       "[4, 9, 25, 36, 6084, 16]"
      ]
     },
     "execution_count": 82,
     "metadata": {},
     "output_type": "execute_result"
    }
   ],
   "source": [
    "lst12"
   ]
  },
  {
   "cell_type": "markdown",
   "id": "88deae8a",
   "metadata": {},
   "source": [
    "# Iterables vs Iterators"
   ]
  },
  {
   "cell_type": "code",
   "execution_count": 83,
   "id": "82a4ce6d",
   "metadata": {},
   "outputs": [],
   "source": [
    "Lst=[2.3,5,2,4,7]"
   ]
  },
  {
   "cell_type": "code",
   "execution_count": 84,
   "id": "06a8d611",
   "metadata": {},
   "outputs": [
    {
     "name": "stdout",
     "output_type": "stream",
     "text": [
      "2.3\n",
      "5\n",
      "2\n",
      "4\n",
      "7\n"
     ]
    }
   ],
   "source": [
    "for i in Lst: #this is iterable \n",
    "    print (i)"
   ]
  },
  {
   "cell_type": "code",
   "execution_count": 93,
   "id": "18417f86",
   "metadata": {},
   "outputs": [],
   "source": [
    " lyt=iter(Lst) #this will convert list into iterator"
   ]
  },
  {
   "cell_type": "code",
   "execution_count": 94,
   "id": "fe79afed",
   "metadata": {},
   "outputs": [
    {
     "data": {
      "text/plain": [
       "2.3"
      ]
     },
     "execution_count": 94,
     "metadata": {},
     "output_type": "execute_result"
    }
   ],
   "source": [
    "# we can use next() to iterate at a time (single element ) of iterator\n",
    "\n",
    "next(lyt)"
   ]
  },
  {
   "cell_type": "code",
   "execution_count": 95,
   "id": "db795ecb",
   "metadata": {},
   "outputs": [
    {
     "data": {
      "text/plain": [
       "5"
      ]
     },
     "execution_count": 95,
     "metadata": {},
     "output_type": "execute_result"
    }
   ],
   "source": [
    "next(lyt)"
   ]
  },
  {
   "cell_type": "code",
   "execution_count": null,
   "id": "0996c930",
   "metadata": {},
   "outputs": [],
   "source": []
  },
  {
   "cell_type": "code",
   "execution_count": null,
   "id": "703d8420",
   "metadata": {},
   "outputs": [],
   "source": []
  },
  {
   "cell_type": "code",
   "execution_count": null,
   "id": "22140ce7",
   "metadata": {},
   "outputs": [],
   "source": []
  },
  {
   "cell_type": "code",
   "execution_count": null,
   "id": "19eaa395",
   "metadata": {},
   "outputs": [],
   "source": []
  },
  {
   "cell_type": "markdown",
   "id": "6a56225a",
   "metadata": {},
   "source": [
    "# OOPS "
   ]
  },
  {
   "cell_type": "code",
   "execution_count": 364,
   "id": "127fe4b2",
   "metadata": {},
   "outputs": [],
   "source": [
    "class student:\n",
    "    def __init__(self,name,age,marks):\n",
    "        self.name=name\n",
    "        self.age=age\n",
    "        self.marks=marks\n",
    "        \n",
    "    def addsub(self,sub):\n",
    "        self.subject=sub\n",
    "        return 'This is {name}  whose age is {age} and he scored {marks} in {subject} '.format(name=self.name, age=self.age, \n",
    "                                                                                                    marks=self.marks, subject=self.subject)"
   ]
  },
  {
   "cell_type": "code",
   "execution_count": 367,
   "id": "896e6f40",
   "metadata": {},
   "outputs": [],
   "source": [
    "std2= student('vatsal',23,95)"
   ]
  },
  {
   "cell_type": "code",
   "execution_count": 368,
   "id": "7a14b9d7",
   "metadata": {},
   "outputs": [],
   "source": [
    "std2.name='vatsal'\n",
    "std2.age=23\n",
    "std2.marks=95"
   ]
  },
  {
   "cell_type": "code",
   "execution_count": 369,
   "id": "64f8a2df",
   "metadata": {},
   "outputs": [
    {
     "data": {
      "text/plain": [
       "'This is vatsal  whose age is 23 and he scored 95 in Maths '"
      ]
     },
     "execution_count": 369,
     "metadata": {},
     "output_type": "execute_result"
    }
   ],
   "source": [
    "std2.addsub('Maths')"
   ]
  },
  {
   "cell_type": "code",
   "execution_count": null,
   "id": "02ef1350",
   "metadata": {},
   "outputs": [],
   "source": []
  },
  {
   "cell_type": "markdown",
   "id": "42148b43",
   "metadata": {},
   "source": [
    "# Python OOPS- Public, Protected And Private"
   ]
  },
  {
   "cell_type": "code",
   "execution_count": null,
   "id": "0c7e1273",
   "metadata": {},
   "outputs": [],
   "source": [
    "# In public , we can access the variables of the class anywhere"
   ]
  },
  {
   "cell_type": "code",
   "execution_count": 370,
   "id": "ad16d0ba",
   "metadata": {},
   "outputs": [],
   "source": [
    "class student:\n",
    "    def __init__(self,name,age,marks):\n",
    "        self.name=name\n",
    "        self.age=age\n",
    "        self.marks=marks"
   ]
  },
  {
   "cell_type": "code",
   "execution_count": 371,
   "id": "309f8d2e",
   "metadata": {},
   "outputs": [],
   "source": [
    "sd1=student('vd',34,45)"
   ]
  },
  {
   "cell_type": "code",
   "execution_count": 372,
   "id": "32f76d5f",
   "metadata": {},
   "outputs": [
    {
     "data": {
      "text/plain": [
       "'vd'"
      ]
     },
     "execution_count": 372,
     "metadata": {},
     "output_type": "execute_result"
    }
   ],
   "source": [
    "sd1.name"
   ]
  },
  {
   "cell_type": "code",
   "execution_count": 387,
   "id": "82ae25a7",
   "metadata": {},
   "outputs": [],
   "source": [
    "# In protected the attributes/variable of the calss can only be access by child class and not anywhere else\n",
    "# it can be indicated by single (_) eg: _marks\n",
    "\n",
    "# Overriding of variable/ changing value can only be done by object of subclass/child class"
   ]
  },
  {
   "cell_type": "code",
   "execution_count": 411,
   "id": "77a1eab6",
   "metadata": {},
   "outputs": [],
   "source": [
    "### All the class variables are protected\n",
    "class Car():\n",
    "    def __init__(self,windows,doors,enginetype):\n",
    "        self._windows=windows\n",
    "        self._doors=doors\n",
    "        self._enginetype=enginetype\n"
   ]
  },
  {
   "cell_type": "code",
   "execution_count": 412,
   "id": "3d883aa2",
   "metadata": {},
   "outputs": [],
   "source": [
    "class Truck(Car):\n",
    "    def __init__(self,windows,doors,enginetype,horsepower):\n",
    "        super().__init__(windows,doors,enginetype)\n",
    "        self.horsepowwer=horsepower"
   ]
  },
  {
   "cell_type": "code",
   "execution_count": 413,
   "id": "728a1422",
   "metadata": {},
   "outputs": [
    {
     "data": {
      "text/plain": [
       "['__class__',\n",
       " '__delattr__',\n",
       " '__dict__',\n",
       " '__dir__',\n",
       " '__doc__',\n",
       " '__eq__',\n",
       " '__format__',\n",
       " '__ge__',\n",
       " '__getattribute__',\n",
       " '__gt__',\n",
       " '__hash__',\n",
       " '__init__',\n",
       " '__init_subclass__',\n",
       " '__le__',\n",
       " '__lt__',\n",
       " '__module__',\n",
       " '__ne__',\n",
       " '__new__',\n",
       " '__reduce__',\n",
       " '__reduce_ex__',\n",
       " '__repr__',\n",
       " '__setattr__',\n",
       " '__sizeof__',\n",
       " '__str__',\n",
       " '__subclasshook__',\n",
       " '__weakref__',\n",
       " '_doors',\n",
       " '_enginetype',\n",
       " '_windows',\n",
       " 'horsepowwer']"
      ]
     },
     "execution_count": 413,
     "metadata": {},
     "output_type": "execute_result"
    }
   ],
   "source": [
    "truck=Truck(4,4,\"Diesel\",4000)\n",
    "dir(truck)"
   ]
  },
  {
   "cell_type": "code",
   "execution_count": 418,
   "id": "dfb25552",
   "metadata": {},
   "outputs": [
    {
     "data": {
      "text/plain": [
       "4"
      ]
     },
     "execution_count": 418,
     "metadata": {},
     "output_type": "execute_result"
    }
   ],
   "source": [
    "truck._windows"
   ]
  },
  {
   "cell_type": "code",
   "execution_count": 414,
   "id": "00ecd2da",
   "metadata": {},
   "outputs": [],
   "source": [
    "ca1=Car(23,3,4)"
   ]
  },
  {
   "cell_type": "code",
   "execution_count": 415,
   "id": "bd770892",
   "metadata": {},
   "outputs": [],
   "source": [
    "ca1._windows=2"
   ]
  },
  {
   "cell_type": "code",
   "execution_count": 419,
   "id": "847d1737",
   "metadata": {},
   "outputs": [
    {
     "data": {
      "text/plain": [
       "2"
      ]
     },
     "execution_count": 419,
     "metadata": {},
     "output_type": "execute_result"
    }
   ],
   "source": [
    "ca1._windows"
   ]
  },
  {
   "cell_type": "code",
   "execution_count": 382,
   "id": "1baf1b0f",
   "metadata": {},
   "outputs": [],
   "source": [
    "# In private we cannot access the variable outside the class\n",
    "\n",
    "# its is denoted by double(__) eg : __cycle"
   ]
  },
  {
   "cell_type": "code",
   "execution_count": 383,
   "id": "9532a01d",
   "metadata": {},
   "outputs": [],
   "source": [
    "### private\n",
    "class Car():\n",
    "    def __init__(self,windows,doors,enginetype):\n",
    "        self.__windows=windows\n",
    "        self.__doors=doors\n",
    "        self.__enginetype=enginetype\n",
    "        "
   ]
  },
  {
   "cell_type": "code",
   "execution_count": 384,
   "id": "a30d3756",
   "metadata": {},
   "outputs": [],
   "source": [
    "audi=Car(4,4,\"Diesel\")"
   ]
  },
  {
   "cell_type": "code",
   "execution_count": 385,
   "id": "84bd6937",
   "metadata": {},
   "outputs": [
    {
     "data": {
      "text/plain": [
       "['_Car__doors',\n",
       " '_Car__enginetype',\n",
       " '_Car__windows',\n",
       " '__class__',\n",
       " '__delattr__',\n",
       " '__dict__',\n",
       " '__dir__',\n",
       " '__doc__',\n",
       " '__eq__',\n",
       " '__format__',\n",
       " '__ge__',\n",
       " '__getattribute__',\n",
       " '__gt__',\n",
       " '__hash__',\n",
       " '__init__',\n",
       " '__init_subclass__',\n",
       " '__le__',\n",
       " '__lt__',\n",
       " '__module__',\n",
       " '__ne__',\n",
       " '__new__',\n",
       " '__reduce__',\n",
       " '__reduce_ex__',\n",
       " '__repr__',\n",
       " '__setattr__',\n",
       " '__sizeof__',\n",
       " '__str__',\n",
       " '__subclasshook__',\n",
       " '__weakref__']"
      ]
     },
     "execution_count": 385,
     "metadata": {},
     "output_type": "execute_result"
    }
   ],
   "source": [
    "dir(audi)"
   ]
  },
  {
   "cell_type": "code",
   "execution_count": 386,
   "id": "e3130e15",
   "metadata": {},
   "outputs": [],
   "source": [
    "# In all the cases we can other write the value but its important to understand which variables are \n",
    "#are private, protected and public"
   ]
  },
  {
   "cell_type": "markdown",
   "id": "d0362193",
   "metadata": {},
   "source": [
    "# Exception Handling"
   ]
  },
  {
   "cell_type": "code",
   "execution_count": 1,
   "id": "477dadf0",
   "metadata": {},
   "outputs": [
    {
     "name": "stdout",
     "output_type": "stream",
     "text": [
      "name 'b' is not defined\n"
     ]
    }
   ],
   "source": [
    "try:\n",
    "    #in this we write code block where exception can occur\n",
    "    a=b\n",
    "except Exception as ex: # this will take all the exception if any occur in try\n",
    "    print(ex)\n",
    "     "
   ]
  },
  {
   "cell_type": "code",
   "execution_count": 3,
   "id": "0e4a3f03",
   "metadata": {},
   "outputs": [
    {
     "name": "stdout",
     "output_type": "stream",
     "text": [
      "The value is not initalise, please check \n"
     ]
    }
   ],
   "source": [
    "# if you want to provide particular message for some particular type of error you can do it by\n",
    "\n",
    "try:\n",
    "    a=b\n",
    "except NameError:\n",
    "    print('The value is not initalise, please check ') # this will give message for specific type of error\n",
    "except Exception as ex:\n",
    "    print(ex)"
   ]
  },
  {
   "cell_type": "code",
   "execution_count": 4,
   "id": "1fd3c92c",
   "metadata": {},
   "outputs": [
    {
     "ename": "NameError",
     "evalue": "name 'b' is not defined",
     "output_type": "error",
     "traceback": [
      "\u001b[1;31m---------------------------------------------------------------------------\u001b[0m",
      "\u001b[1;31mNameError\u001b[0m                                 Traceback (most recent call last)",
      "\u001b[1;32m<ipython-input-4-488068fe1e94>\u001b[0m in \u001b[0;36m<module>\u001b[1;34m\u001b[0m\n\u001b[1;32m----> 1\u001b[1;33m \u001b[0ma\u001b[0m\u001b[1;33m=\u001b[0m\u001b[0mb\u001b[0m\u001b[1;33m\u001b[0m\u001b[1;33m\u001b[0m\u001b[0m\n\u001b[0m",
      "\u001b[1;31mNameError\u001b[0m: name 'b' is not defined"
     ]
    }
   ],
   "source": [
    "a=b"
   ]
  },
  {
   "cell_type": "code",
   "execution_count": 5,
   "id": "e3613b27",
   "metadata": {},
   "outputs": [
    {
     "name": "stdout",
     "output_type": "stream",
     "text": [
      "Enter the number 1 24\n",
      "Enter the number 2 12\n",
      "2.0\n",
      "288\n",
      "36\n"
     ]
    }
   ],
   "source": [
    "### try else\n",
    "try:\n",
    "    ##code block where exception can occur\n",
    "    a=int(input(\"Enter the number 1 \"))\n",
    "    b=int(input(\"Enter the number 2 \"))\n",
    "    c=a/b \n",
    "    d=a*b\n",
    "    e=a+b\n",
    "    \n",
    "except NameError:\n",
    "    print(\"The user have not defined the variable\")\n",
    "except ZeroDivisionError:\n",
    "    print(\"Please provide number greater than 0\")\n",
    "except TypeError:\n",
    "    print(\"Try to make the datatype similar\")\n",
    "except Exception as ex:\n",
    "    print(ex)\n",
    "else:  \n",
    "    print(c)\n",
    "    print(d)\n",
    "    print(e)\n",
    "    "
   ]
  },
  {
   "cell_type": "code",
   "execution_count": 6,
   "id": "296b9400",
   "metadata": {},
   "outputs": [
    {
     "name": "stdout",
     "output_type": "stream",
     "text": [
      "Enter the number 1 12\n",
      "Enter the number 2 0\n"
     ]
    },
    {
     "ename": "ZeroDivisionError",
     "evalue": "division by zero",
     "output_type": "error",
     "traceback": [
      "\u001b[1;31m---------------------------------------------------------------------------\u001b[0m",
      "\u001b[1;31mZeroDivisionError\u001b[0m                         Traceback (most recent call last)",
      "\u001b[1;32m<ipython-input-6-3d8549d8b013>\u001b[0m in \u001b[0;36m<module>\u001b[1;34m\u001b[0m\n\u001b[0;32m      1\u001b[0m \u001b[0ma\u001b[0m\u001b[1;33m=\u001b[0m\u001b[0mint\u001b[0m\u001b[1;33m(\u001b[0m\u001b[0minput\u001b[0m\u001b[1;33m(\u001b[0m\u001b[1;34m\"Enter the number 1 \"\u001b[0m\u001b[1;33m)\u001b[0m\u001b[1;33m)\u001b[0m\u001b[1;33m\u001b[0m\u001b[1;33m\u001b[0m\u001b[0m\n\u001b[0;32m      2\u001b[0m \u001b[0mb\u001b[0m\u001b[1;33m=\u001b[0m\u001b[0mint\u001b[0m\u001b[1;33m(\u001b[0m\u001b[0minput\u001b[0m\u001b[1;33m(\u001b[0m\u001b[1;34m\"Enter the number 2 \"\u001b[0m\u001b[1;33m)\u001b[0m\u001b[1;33m)\u001b[0m\u001b[1;33m\u001b[0m\u001b[1;33m\u001b[0m\u001b[0m\n\u001b[1;32m----> 3\u001b[1;33m \u001b[0mc\u001b[0m\u001b[1;33m=\u001b[0m\u001b[0ma\u001b[0m\u001b[1;33m/\u001b[0m\u001b[0mb\u001b[0m\u001b[1;33m\u001b[0m\u001b[1;33m\u001b[0m\u001b[0m\n\u001b[0m\u001b[0;32m      4\u001b[0m \u001b[0md\u001b[0m\u001b[1;33m=\u001b[0m\u001b[0ma\u001b[0m\u001b[1;33m*\u001b[0m\u001b[0mb\u001b[0m\u001b[1;33m\u001b[0m\u001b[1;33m\u001b[0m\u001b[0m\n\u001b[0;32m      5\u001b[0m \u001b[0me\u001b[0m\u001b[1;33m=\u001b[0m\u001b[0ma\u001b[0m\u001b[1;33m+\u001b[0m\u001b[0mb\u001b[0m\u001b[1;33m\u001b[0m\u001b[1;33m\u001b[0m\u001b[0m\n",
      "\u001b[1;31mZeroDivisionError\u001b[0m: division by zero"
     ]
    }
   ],
   "source": [
    "    a=int(input(\"Enter the number 1 \"))\n",
    "    b=int(input(\"Enter the number 2 \"))\n",
    "    c=a/b \n",
    "    d=a*b\n",
    "    e=a+b"
   ]
  },
  {
   "cell_type": "code",
   "execution_count": 7,
   "id": "7c0b7638",
   "metadata": {},
   "outputs": [
    {
     "name": "stdout",
     "output_type": "stream",
     "text": [
      "Enter the number 1 12\n",
      "Enter the number 2 0\n",
      "Please provide number greater than 0\n",
      "The execution is done\n"
     ]
    }
   ],
   "source": [
    "\n",
    "### try else finaaly\n",
    "try:\n",
    "    ##code block where exception can occur\n",
    "    a=int(input(\"Enter the number 1 \"))\n",
    "    b=int(input(\"Enter the number 2 \"))\n",
    "    c=a/b\n",
    "    \n",
    "except NameError:\n",
    "    print(\"The user have not defined the variable\")\n",
    "except ZeroDivisionError:\n",
    "    print(\"Please provide number greater than 0\")\n",
    "except TypeError:\n",
    "    print(\"Try to make the datatype similar\")\n",
    "except Exception as ex:\n",
    "    print(ex)\n",
    "else:                           #else will only excute if there are no exception caught\n",
    "    print(c)\n",
    "finally:                      #finally will execute even though if there are exception or not\n",
    "    print(\"The execution is done\")\n",
    "    "
   ]
  },
  {
   "cell_type": "markdown",
   "id": "ea99dea1",
   "metadata": {},
   "source": [
    "# Custom Exception"
   ]
  },
  {
   "cell_type": "code",
   "execution_count": 15,
   "id": "34995505",
   "metadata": {},
   "outputs": [],
   "source": [
    "# To make custom excption you need to inherit the Exception class \n",
    "\n",
    "class Error(Exception):\n",
    "    pass\n",
    "\n",
    "class checkyear(Error):\n",
    "    pass\n",
    "\n",
    "class genericlass(Error):\n",
    "    pass"
   ]
  },
  {
   "cell_type": "code",
   "execution_count": 19,
   "id": "7abbf426",
   "metadata": {},
   "outputs": [
    {
     "name": "stdout",
     "output_type": "stream",
     "text": [
      "Enter the year of Birth 1980\n",
      "Not a valid age\n"
     ]
    }
   ],
   "source": [
    "year=int(input(\"Enter the year of Birth \"))\n",
    "age=2021-year\n",
    "\n",
    "\n",
    "try:\n",
    "    if age<=30:\n",
    "        print('Valid Age to apply')\n",
    "    else:\n",
    "        raise checkyear\n",
    "except checkyear:\n",
    "    print('Not a valid age')\n",
    "    "
   ]
  },
  {
   "cell_type": "code",
   "execution_count": null,
   "id": "4f67e813",
   "metadata": {},
   "outputs": [],
   "source": []
  },
  {
   "cell_type": "code",
   "execution_count": null,
   "id": "a75fc27d",
   "metadata": {},
   "outputs": [],
   "source": []
  },
  {
   "cell_type": "code",
   "execution_count": null,
   "id": "5989c737",
   "metadata": {},
   "outputs": [],
   "source": []
  },
  {
   "cell_type": "markdown",
   "id": "7b2c1a4b",
   "metadata": {},
   "source": [
    "# Inheritance"
   ]
  },
  {
   "cell_type": "code",
   "execution_count": 50,
   "id": "e802c8bc",
   "metadata": {},
   "outputs": [],
   "source": [
    "class student:\n",
    "    def __init__(self,name,age,marks):\n",
    "        self.name=name\n",
    "        self.age=age\n",
    "        self.marks=marks\n",
    "        \n",
    "    def classroom(self):\n",
    "        print('this is classroom')"
   ]
  },
  {
   "cell_type": "code",
   "execution_count": 64,
   "id": "0221b99d",
   "metadata": {},
   "outputs": [],
   "source": [
    "std1=student(\"sba\",2,4)"
   ]
  },
  {
   "cell_type": "code",
   "execution_count": 65,
   "id": "d9865161",
   "metadata": {},
   "outputs": [
    {
     "name": "stdout",
     "output_type": "stream",
     "text": [
      "this is classroom\n"
     ]
    }
   ],
   "source": [
    "std1.classroom()"
   ]
  },
  {
   "cell_type": "code",
   "execution_count": 66,
   "id": "da7d02d2",
   "metadata": {},
   "outputs": [],
   "source": [
    "class exam(student):\n",
    "    \n",
    "    def __init__(self,name,age,marks,room):\n",
    "        super().__init__(name,age,marks)\n",
    "        self.room=room\n",
    "        \n",
    "    def selfexam(exam):\n",
    "        print('This is exam')\n",
    "    \n",
    "    \n",
    "    "
   ]
  },
  {
   "cell_type": "code",
   "execution_count": 67,
   "id": "4367261d",
   "metadata": {},
   "outputs": [],
   "source": [
    "ex1=exam(\"sad\",4,5,312)"
   ]
  },
  {
   "cell_type": "code",
   "execution_count": 68,
   "id": "f9340474",
   "metadata": {},
   "outputs": [
    {
     "name": "stdout",
     "output_type": "stream",
     "text": [
      "this is classroom\n"
     ]
    }
   ],
   "source": [
    "ex1.classroom()"
   ]
  },
  {
   "cell_type": "code",
   "execution_count": 70,
   "id": "a364f753",
   "metadata": {},
   "outputs": [
    {
     "name": "stdout",
     "output_type": "stream",
     "text": [
      "This is exam\n"
     ]
    }
   ],
   "source": [
    "ex1.selfexam()"
   ]
  },
  {
   "cell_type": "code",
   "execution_count": 96,
   "id": "ce9bf7b9",
   "metadata": {},
   "outputs": [],
   "source": [
    "class A:\n",
    "    def method1(self):\n",
    "        print(\"A class method is called\")"
   ]
  },
  {
   "cell_type": "code",
   "execution_count": 97,
   "id": "6717c808",
   "metadata": {},
   "outputs": [],
   "source": [
    "class B(A):\n",
    "    def method1(self):\n",
    "        print(\"B class method is called\")\n",
    "    def method2(self):\n",
    "        print(\"B class method2 is called\")"
   ]
  },
  {
   "cell_type": "code",
   "execution_count": 98,
   "id": "8b747570",
   "metadata": {},
   "outputs": [],
   "source": [
    "class C(A):\n",
    "    def method1(self):\n",
    "        print(\"C class method1 is called\")\n",
    "    def method3(self):\n",
    "        print(\"C class method2 is called\")\n",
    "    \n",
    "    "
   ]
  },
  {
   "cell_type": "code",
   "execution_count": 99,
   "id": "58215d56",
   "metadata": {},
   "outputs": [],
   "source": [
    "class D(B,C):\n",
    "    def method1(self):\n",
    "        print(\"D class method is called\")\n",
    "        C.method1(self)\n",
    "        B.method1(self)\n",
    "        A.method1(self)\n",
    "    "
   ]
  },
  {
   "cell_type": "code",
   "execution_count": 100,
   "id": "b337b6b2",
   "metadata": {},
   "outputs": [],
   "source": [
    "d=D() # here d will be the object for class A,B,C,D"
   ]
  },
  {
   "cell_type": "code",
   "execution_count": 101,
   "id": "cc9ba7a7",
   "metadata": {},
   "outputs": [
    {
     "name": "stdout",
     "output_type": "stream",
     "text": [
      "C class method2 is called\n"
     ]
    }
   ],
   "source": [
    "d.method3()"
   ]
  },
  {
   "cell_type": "code",
   "execution_count": 102,
   "id": "c9504dde",
   "metadata": {},
   "outputs": [
    {
     "name": "stdout",
     "output_type": "stream",
     "text": [
      "D class method is called\n",
      "C class method1 is called\n",
      "B class method is called\n",
      "A class method is called\n"
     ]
    }
   ],
   "source": [
    "d.method1()"
   ]
  },
  {
   "cell_type": "code",
   "execution_count": 103,
   "id": "1a5b66be",
   "metadata": {},
   "outputs": [
    {
     "name": "stdout",
     "output_type": "stream",
     "text": [
      "B class method is called\n"
     ]
    }
   ],
   "source": [
    "B.method1(d)\n"
   ]
  },
  {
   "cell_type": "code",
   "execution_count": null,
   "id": "35fa5892",
   "metadata": {},
   "outputs": [],
   "source": []
  },
  {
   "cell_type": "code",
   "execution_count": null,
   "id": "dc9fb9ca",
   "metadata": {},
   "outputs": [],
   "source": []
  },
  {
   "cell_type": "code",
   "execution_count": null,
   "id": "d2be8a7f",
   "metadata": {},
   "outputs": [],
   "source": []
  },
  {
   "cell_type": "code",
   "execution_count": null,
   "id": "93bc10cb",
   "metadata": {},
   "outputs": [],
   "source": []
  },
  {
   "cell_type": "markdown",
   "id": "def2051f",
   "metadata": {},
   "source": [
    "# Magic Method"
   ]
  },
  {
   "cell_type": "code",
   "execution_count": 104,
   "id": "008ecd1a",
   "metadata": {},
   "outputs": [],
   "source": [
    "class student:\n",
    "    def __init__(self,name,age,marks):\n",
    "        self.name=name\n",
    "        self.age=age\n",
    "        self.marks=marks"
   ]
  },
  {
   "cell_type": "code",
   "execution_count": 105,
   "id": "c50b1a68",
   "metadata": {},
   "outputs": [],
   "source": [
    "std1=student('vat',23,40)"
   ]
  },
  {
   "cell_type": "code",
   "execution_count": 106,
   "id": "d14018ed",
   "metadata": {},
   "outputs": [
    {
     "data": {
      "text/plain": [
       "['__class__',\n",
       " '__delattr__',\n",
       " '__dict__',\n",
       " '__dir__',\n",
       " '__doc__',\n",
       " '__eq__',\n",
       " '__format__',\n",
       " '__ge__',\n",
       " '__getattribute__',\n",
       " '__gt__',\n",
       " '__hash__',\n",
       " '__init__',\n",
       " '__init_subclass__',\n",
       " '__le__',\n",
       " '__lt__',\n",
       " '__module__',\n",
       " '__ne__',\n",
       " '__new__',\n",
       " '__reduce__',\n",
       " '__reduce_ex__',\n",
       " '__repr__',\n",
       " '__setattr__',\n",
       " '__sizeof__',\n",
       " '__str__',\n",
       " '__subclasshook__',\n",
       " '__weakref__',\n",
       " 'age',\n",
       " 'marks',\n",
       " 'name']"
      ]
     },
     "execution_count": 106,
     "metadata": {},
     "output_type": "execute_result"
    }
   ],
   "source": [
    "dir(std1)  # the object of class (Std1) has all this method available, this method can be overwritten as wanted and can be called"
   ]
  },
  {
   "cell_type": "code",
   "execution_count": 107,
   "id": "61679467",
   "metadata": {},
   "outputs": [],
   "source": [
    "class student:\n",
    "    def __init__(self,name,age,marks):\n",
    "        self.name=name\n",
    "        self.age=age\n",
    "        self.marks=marks\n",
    "    def __sizeof__(self):\n",
    "        print('this display size')"
   ]
  },
  {
   "cell_type": "code",
   "execution_count": 108,
   "id": "7c7f7426",
   "metadata": {},
   "outputs": [],
   "source": [
    "std1=student('vat',23,40)"
   ]
  },
  {
   "cell_type": "code",
   "execution_count": 109,
   "id": "aaca15d5",
   "metadata": {},
   "outputs": [
    {
     "name": "stdout",
     "output_type": "stream",
     "text": [
      "<__main__.student object at 0x000001EC15DC2F08>\n"
     ]
    }
   ],
   "source": [
    "print(std1)"
   ]
  },
  {
   "cell_type": "code",
   "execution_count": 110,
   "id": "ae952d62",
   "metadata": {},
   "outputs": [
    {
     "name": "stdout",
     "output_type": "stream",
     "text": [
      "this display size\n"
     ]
    }
   ],
   "source": [
    "std1.__sizeof__()"
   ]
  },
  {
   "cell_type": "markdown",
   "id": "32d94d94",
   "metadata": {},
   "source": [
    "# Python Assert\n",
    "Python provides the assert statement to check if a given logical expression is true or false. Program execution proceeds only if the expression is true and raises the AssertionError when it is false. The following code shows the usage of the assert statement."
   ]
  },
  {
   "cell_type": "code",
   "execution_count": 113,
   "id": "d36b88d8",
   "metadata": {},
   "outputs": [
    {
     "data": {
      "text/plain": [
       "False"
      ]
     },
     "execution_count": 113,
     "metadata": {},
     "output_type": "execute_result"
    }
   ],
   "source": [
    "a=10\n",
    "\n",
    "a>10"
   ]
  },
  {
   "cell_type": "code",
   "execution_count": 116,
   "id": "b7e0c2c5",
   "metadata": {},
   "outputs": [],
   "source": [
    "a=10\n",
    "\n",
    "assert a>=10  # this will use for exception handing"
   ]
  },
  {
   "cell_type": "code",
   "execution_count": 118,
   "id": "51540d1c",
   "metadata": {},
   "outputs": [
    {
     "name": "stdout",
     "output_type": "stream",
     "text": [
      "Enter the even number11\n",
      "Please enter even number\n"
     ]
    }
   ],
   "source": [
    "try:\n",
    "    num=int(input(\"Enter the even number\"))\n",
    "    assert num%2==0\n",
    "    print(\"The number is even\")\n",
    "except AssertionError:\n",
    "    print(\"Please enter even number\")"
   ]
  },
  {
   "cell_type": "code",
   "execution_count": null,
   "id": "79190f8f",
   "metadata": {},
   "outputs": [],
   "source": []
  },
  {
   "cell_type": "markdown",
   "id": "490ebdec",
   "metadata": {},
   "source": [
    "# Python Generators Vs Iterators"
   ]
  },
  {
   "cell_type": "code",
   "execution_count": 122,
   "id": "c8667705",
   "metadata": {},
   "outputs": [],
   "source": [
    "#this is iterable\n",
    "lst=[1,2,3,4,7]\n"
   ]
  },
  {
   "cell_type": "code",
   "execution_count": 121,
   "id": "897a2bf2",
   "metadata": {},
   "outputs": [
    {
     "name": "stdout",
     "output_type": "stream",
     "text": [
      "1\n",
      "2\n",
      "3\n",
      "4\n",
      "7\n"
     ]
    }
   ],
   "source": [
    "for i in lst:\n",
    "    print(i)"
   ]
  },
  {
   "cell_type": "code",
   "execution_count": 127,
   "id": "28b38d29",
   "metadata": {},
   "outputs": [],
   "source": [
    "#iterator\n",
    "\n",
    "iterator= iter(lst)"
   ]
  },
  {
   "cell_type": "code",
   "execution_count": 128,
   "id": "ec360971",
   "metadata": {},
   "outputs": [
    {
     "data": {
      "text/plain": [
       "<list_iterator at 0x1ec15d8c788>"
      ]
     },
     "execution_count": 128,
     "metadata": {},
     "output_type": "execute_result"
    }
   ],
   "source": [
    "iterator"
   ]
  },
  {
   "cell_type": "code",
   "execution_count": 125,
   "id": "dd6e3784",
   "metadata": {},
   "outputs": [
    {
     "data": {
      "text/plain": [
       "1"
      ]
     },
     "execution_count": 125,
     "metadata": {},
     "output_type": "execute_result"
    }
   ],
   "source": [
    "next(iterator) # to iterate through iterator we use next()"
   ]
  },
  {
   "cell_type": "code",
   "execution_count": 130,
   "id": "aa3e8967",
   "metadata": {},
   "outputs": [
    {
     "name": "stdout",
     "output_type": "stream",
     "text": [
      "2\n",
      "3\n",
      "4\n",
      "7\n"
     ]
    }
   ],
   "source": [
    "for i in iterator:\n",
    "    print(i)"
   ]
  },
  {
   "cell_type": "code",
   "execution_count": null,
   "id": "5f5a942a",
   "metadata": {},
   "outputs": [],
   "source": []
  },
  {
   "cell_type": "code",
   "execution_count": 151,
   "id": "13d99abd",
   "metadata": {},
   "outputs": [],
   "source": [
    "## Generator\n",
    "\n",
    "\n",
    "def square(n):\n",
    "    for i in range(n):\n",
    "        yield i**2"
   ]
  },
  {
   "cell_type": "code",
   "execution_count": 152,
   "id": "176a589f",
   "metadata": {},
   "outputs": [],
   "source": [
    "a=square(4)"
   ]
  },
  {
   "cell_type": "code",
   "execution_count": 153,
   "id": "f641b08f",
   "metadata": {},
   "outputs": [
    {
     "data": {
      "text/plain": [
       "0"
      ]
     },
     "execution_count": 153,
     "metadata": {},
     "output_type": "execute_result"
    }
   ],
   "source": [
    "next(a)"
   ]
  },
  {
   "cell_type": "code",
   "execution_count": 154,
   "id": "9cce3b14",
   "metadata": {},
   "outputs": [
    {
     "data": {
      "text/plain": [
       "<generator object square at 0x000001EC157918C8>"
      ]
     },
     "execution_count": 154,
     "metadata": {},
     "output_type": "execute_result"
    }
   ],
   "source": [
    "a"
   ]
  },
  {
   "cell_type": "code",
   "execution_count": 155,
   "id": "5a595278",
   "metadata": {},
   "outputs": [
    {
     "name": "stdout",
     "output_type": "stream",
     "text": [
      "1\n",
      "4\n",
      "9\n"
     ]
    }
   ],
   "source": [
    "for i in a:\n",
    "    print(i)"
   ]
  },
  {
   "cell_type": "markdown",
   "id": "74cac2fe",
   "metadata": {},
   "source": [
    "# Difference\n",
    "1. To create iterator we use iter() and to generator we use function along with yield keyword\n",
    "2. Generator uses the yield keyword. It saves the local variable\n",
    "3. Generator in python helps us top write fast and compact code\n",
    "4. Python iterator is much more memory efficient"
   ]
  },
  {
   "cell_type": "code",
   "execution_count": 156,
   "id": "7fd2572a",
   "metadata": {},
   "outputs": [],
   "source": [
    "import types,collections"
   ]
  },
  {
   "cell_type": "code",
   "execution_count": 158,
   "id": "05ee9276",
   "metadata": {},
   "outputs": [
    {
     "data": {
      "text/plain": [
       "True"
      ]
     },
     "execution_count": 158,
     "metadata": {},
     "output_type": "execute_result"
    }
   ],
   "source": [
    "issubclass(types.GeneratorType,collections.Iterator)"
   ]
  },
  {
   "cell_type": "markdown",
   "id": "fe3fd29d",
   "metadata": {},
   "source": [
    "# Python Decorators"
   ]
  },
  {
   "cell_type": "code",
   "execution_count": 159,
   "id": "aea2d719",
   "metadata": {},
   "outputs": [],
   "source": [
    "# Function copy\n",
    "# Closure"
   ]
  },
  {
   "cell_type": "code",
   "execution_count": 185,
   "id": "457b1a5d",
   "metadata": {},
   "outputs": [],
   "source": [
    "# Function copy\n",
    "\n",
    "def welcome():\n",
    "    return (\"Hello Everyone\")"
   ]
  },
  {
   "cell_type": "code",
   "execution_count": 186,
   "id": "eb07e574",
   "metadata": {},
   "outputs": [],
   "source": [
    "we1=welcome()  # this is call function copy where function value is store in a variable"
   ]
  },
  {
   "cell_type": "code",
   "execution_count": 187,
   "id": "adff5842",
   "metadata": {},
   "outputs": [
    {
     "data": {
      "text/plain": [
       "'Hello Everyone'"
      ]
     },
     "execution_count": 187,
     "metadata": {},
     "output_type": "execute_result"
    }
   ],
   "source": [
    "we1"
   ]
  },
  {
   "cell_type": "code",
   "execution_count": 188,
   "id": "5765f490",
   "metadata": {},
   "outputs": [],
   "source": [
    "del welcome"
   ]
  },
  {
   "cell_type": "code",
   "execution_count": 189,
   "id": "808e4433",
   "metadata": {},
   "outputs": [
    {
     "data": {
      "text/plain": [
       "'Hello Everyone'"
      ]
     },
     "execution_count": 189,
     "metadata": {},
     "output_type": "execute_result"
    }
   ],
   "source": [
    "we1"
   ]
  },
  {
   "cell_type": "code",
   "execution_count": 205,
   "id": "57c8d1e4",
   "metadata": {},
   "outputs": [],
   "source": [
    "# Closure\n",
    "\n",
    "def main_welcome(a):\n",
    "    msg='Hello'\n",
    "    \n",
    "    def sub_main_welcome(a):\n",
    "        print(\"Everyone\")\n",
    "        print(msg)\n",
    "        print(a)  # this will provide priority to its own parameter rather than same parameter from main function\n",
    "    return sub_main_welcome(2)"
   ]
  },
  {
   "cell_type": "code",
   "execution_count": 206,
   "id": "ce930b5d",
   "metadata": {},
   "outputs": [
    {
     "name": "stdout",
     "output_type": "stream",
     "text": [
      "Everyone\n",
      "Hello\n",
      "2\n"
     ]
    }
   ],
   "source": [
    "main_welcome('ok')"
   ]
  },
  {
   "cell_type": "code",
   "execution_count": 226,
   "id": "78481db6",
   "metadata": {},
   "outputs": [],
   "source": [
    "\n",
    "def main_welcome(call):\n",
    "    msg='Hello'\n",
    "    \n",
    "    def sub_main_welcome():\n",
    "        print(\"Everyone\")\n",
    "        print(msg)\n",
    "        print(call([1,2,3,4,5]))  # this will provide priority to its own parameter rather than same parameter from main function\n",
    "    return sub_main_welcome()"
   ]
  },
  {
   "cell_type": "code",
   "execution_count": 227,
   "id": "da686401",
   "metadata": {},
   "outputs": [
    {
     "name": "stdout",
     "output_type": "stream",
     "text": [
      "Everyone\n",
      "Hello\n",
      "5\n"
     ]
    }
   ],
   "source": [
    "a=main_welcome(len)"
   ]
  },
  {
   "cell_type": "code",
   "execution_count": 222,
   "id": "973a6dc9",
   "metadata": {},
   "outputs": [],
   "source": [
    "\n",
    "\n",
    "\n",
    "def main_welcome(func):\n",
    "    msg='Hello'\n",
    "    \n",
    "    def sub_main_welcome():\n",
    "        print(\"Everyone\")\n",
    "        print(msg)\n",
    "        func()\n",
    "        print('This is end')\n",
    "    return sub_main_welcome()"
   ]
  },
  {
   "cell_type": "code",
   "execution_count": 223,
   "id": "88a8a175",
   "metadata": {},
   "outputs": [],
   "source": [
    "def channel_at():\n",
    "    print('Call channel')"
   ]
  },
  {
   "cell_type": "code",
   "execution_count": 224,
   "id": "08eb452f",
   "metadata": {},
   "outputs": [
    {
     "name": "stdout",
     "output_type": "stream",
     "text": [
      "Everyone\n",
      "Hello\n",
      "Call channel\n",
      "This is end\n"
     ]
    }
   ],
   "source": [
    "a=main_welcome(channel_at)  # this is call decorator where we can pass function as a parameter and can call function inside function"
   ]
  },
  {
   "cell_type": "code",
   "execution_count": 225,
   "id": "9cb4fc46",
   "metadata": {},
   "outputs": [
    {
     "name": "stdout",
     "output_type": "stream",
     "text": [
      "Everyone\n",
      "Hello\n",
      "THis is another channel\n",
      "This is end\n"
     ]
    }
   ],
   "source": [
    "@main_welcome              ## this is way to define/ call decorator where in this change_channel will be pass as a parameter \n",
    "def change_chnnel():\n",
    "    print('THis is another channel')\n",
    "\n"
   ]
  },
  {
   "cell_type": "markdown",
   "id": "6944cea5",
   "metadata": {},
   "source": [
    "# IS and =="
   ]
  },
  {
   "cell_type": "code",
   "execution_count": 228,
   "id": "3adfde28",
   "metadata": {},
   "outputs": [],
   "source": [
    "lst= [1,2,3,5]\n",
    "lst2=[1,2,3,5]"
   ]
  },
  {
   "cell_type": "code",
   "execution_count": 229,
   "id": "94cb5cf0",
   "metadata": {},
   "outputs": [
    {
     "data": {
      "text/plain": [
       "True"
      ]
     },
     "execution_count": 229,
     "metadata": {},
     "output_type": "execute_result"
    }
   ],
   "source": [
    "lst == lst2  # here lst and lst2 are store at different memory location so they just compare the elements inside the list"
   ]
  },
  {
   "cell_type": "code",
   "execution_count": 230,
   "id": "c8581304",
   "metadata": {},
   "outputs": [
    {
     "data": {
      "text/plain": [
       "False"
      ]
     },
     "execution_count": 230,
     "metadata": {},
     "output_type": "execute_result"
    }
   ],
   "source": [
    "lst is lst2 # for this is checking the reference value , here as they have different memory location (checks memory location) "
   ]
  },
  {
   "cell_type": "code",
   "execution_count": 231,
   "id": "82fdf0ee",
   "metadata": {},
   "outputs": [],
   "source": [
    "lst2=lst"
   ]
  },
  {
   "cell_type": "code",
   "execution_count": 232,
   "id": "5a07c08d",
   "metadata": {},
   "outputs": [
    {
     "data": {
      "text/plain": [
       "[1, 2, 3, 5]"
      ]
     },
     "execution_count": 232,
     "metadata": {},
     "output_type": "execute_result"
    }
   ],
   "source": [
    "lst"
   ]
  },
  {
   "cell_type": "code",
   "execution_count": 233,
   "id": "84926f55",
   "metadata": {},
   "outputs": [
    {
     "data": {
      "text/plain": [
       "[1, 2, 3, 5]"
      ]
     },
     "execution_count": 233,
     "metadata": {},
     "output_type": "execute_result"
    }
   ],
   "source": [
    "lst2"
   ]
  },
  {
   "cell_type": "code",
   "execution_count": 234,
   "id": "02bb26bb",
   "metadata": {},
   "outputs": [
    {
     "data": {
      "text/plain": [
       "True"
      ]
     },
     "execution_count": 234,
     "metadata": {},
     "output_type": "execute_result"
    }
   ],
   "source": [
    " lst is lst2  #now its true as they are store at same memory / share same location"
   ]
  },
  {
   "cell_type": "markdown",
   "id": "c7a7714b",
   "metadata": {},
   "source": [
    "# Shallow Copy and Deep copy"
   ]
  },
  {
   "cell_type": "code",
   "execution_count": 235,
   "id": "0e8d9b1f",
   "metadata": {},
   "outputs": [],
   "source": [
    "lst1=[2,3,4,5]\n",
    "\n"
   ]
  },
  {
   "cell_type": "code",
   "execution_count": 238,
   "id": "967b061b",
   "metadata": {},
   "outputs": [],
   "source": [
    "lst1= lst2"
   ]
  },
  {
   "cell_type": "code",
   "execution_count": 239,
   "id": "f56aaaf3",
   "metadata": {},
   "outputs": [
    {
     "data": {
      "text/plain": [
       "[2, 3, 4, 5]"
      ]
     },
     "execution_count": 239,
     "metadata": {},
     "output_type": "execute_result"
    }
   ],
   "source": [
    "lst1"
   ]
  },
  {
   "cell_type": "code",
   "execution_count": 240,
   "id": "0645c072",
   "metadata": {},
   "outputs": [
    {
     "data": {
      "text/plain": [
       "[2, 3, 4, 5]"
      ]
     },
     "execution_count": 240,
     "metadata": {},
     "output_type": "execute_result"
    }
   ],
   "source": [
    "lst2"
   ]
  },
  {
   "cell_type": "code",
   "execution_count": 241,
   "id": "4990aed1",
   "metadata": {},
   "outputs": [],
   "source": [
    "lst1[2]=100"
   ]
  },
  {
   "cell_type": "code",
   "execution_count": 244,
   "id": "4eb4710f",
   "metadata": {},
   "outputs": [
    {
     "data": {
      "text/plain": [
       "([2, 3, 100, 5], [2, 3, 100, 5])"
      ]
     },
     "execution_count": 244,
     "metadata": {},
     "output_type": "execute_result"
    }
   ],
   "source": [
    "lst1, lst2            #IN (=) list (lst2) is refereing to the same memory location as lst1 , so any changes made will be refelected in both the memory location "
   ]
  },
  {
   "cell_type": "code",
   "execution_count": null,
   "id": "bfeab49b",
   "metadata": {},
   "outputs": [],
   "source": []
  },
  {
   "cell_type": "code",
   "execution_count": 248,
   "id": "b0728040",
   "metadata": {},
   "outputs": [],
   "source": [
    "# Shallow copy\n",
    "\n",
    "lst1= [2,4,6,8]\n",
    "\n",
    "lst2=lst1.copy()    # this will create a copy of lst1  and save in different memory location\n",
    "                    # so both are indepedent not refering to same memory location"
   ]
  },
  {
   "cell_type": "code",
   "execution_count": 249,
   "id": "b61c788e",
   "metadata": {},
   "outputs": [
    {
     "data": {
      "text/plain": [
       "([2, 4, 6, 8], [2, 4, 6, 8])"
      ]
     },
     "execution_count": 249,
     "metadata": {},
     "output_type": "execute_result"
    }
   ],
   "source": [
    "lst2, lst1"
   ]
  },
  {
   "cell_type": "code",
   "execution_count": 250,
   "id": "03ccaf9f",
   "metadata": {},
   "outputs": [],
   "source": [
    "lst2[3]=100"
   ]
  },
  {
   "cell_type": "code",
   "execution_count": 251,
   "id": "ef7bd755",
   "metadata": {},
   "outputs": [
    {
     "data": {
      "text/plain": [
       "([2, 4, 6, 100], [2, 4, 6, 8])"
      ]
     },
     "execution_count": 251,
     "metadata": {},
     "output_type": "execute_result"
    }
   ],
   "source": [
    "lst2,lst1"
   ]
  },
  {
   "cell_type": "code",
   "execution_count": 252,
   "id": "026ee5a5",
   "metadata": {},
   "outputs": [],
   "source": [
    "## Shallow copy in nested list\n",
    "\n",
    "lst1=[[1,2,3,5],[3,24,7,2],[2,4,5]]"
   ]
  },
  {
   "cell_type": "code",
   "execution_count": 254,
   "id": "3984f7db",
   "metadata": {},
   "outputs": [],
   "source": [
    "lst2=lst1.copy()"
   ]
  },
  {
   "cell_type": "code",
   "execution_count": 255,
   "id": "62f475eb",
   "metadata": {},
   "outputs": [
    {
     "data": {
      "text/plain": [
       "([[1, 2, 3, 5], [3, 24, 7, 2], [2, 4, 5]],\n",
       " [[1, 2, 3, 5], [3, 24, 7, 2], [2, 4, 5]])"
      ]
     },
     "execution_count": 255,
     "metadata": {},
     "output_type": "execute_result"
    }
   ],
   "source": [
    "lst2,lst1"
   ]
  },
  {
   "cell_type": "code",
   "execution_count": 261,
   "id": "7e8abe62",
   "metadata": {},
   "outputs": [],
   "source": [
    "lst2[1][2]=100"
   ]
  },
  {
   "cell_type": "code",
   "execution_count": 262,
   "id": "78ed781b",
   "metadata": {},
   "outputs": [
    {
     "data": {
      "text/plain": [
       "[[1, 2, 3, 5], [3, 24, 100, 2], [2, 4, 5]]"
      ]
     },
     "execution_count": 262,
     "metadata": {},
     "output_type": "execute_result"
    }
   ],
   "source": [
    "lst2"
   ]
  },
  {
   "cell_type": "code",
   "execution_count": 263,
   "id": "b682b9ac",
   "metadata": {},
   "outputs": [
    {
     "data": {
      "text/plain": [
       "[[1, 2, 3, 5], [3, 24, 100, 2], [2, 4, 5]]"
      ]
     },
     "execution_count": 263,
     "metadata": {},
     "output_type": "execute_result"
    }
   ],
   "source": [
    "lst1"
   ]
  },
  {
   "cell_type": "code",
   "execution_count": 264,
   "id": "3d18c3f9",
   "metadata": {},
   "outputs": [],
   "source": [
    "# Here in the above example we can see that after copy of lst1 is created which is lst2\n",
    "# we made changes to lst2 element and it is also refelcted in lst1, this is because in shallow copy the elements of nested list\n",
    "#are refering to the same memory location, so change to element of list will refelct in another--- this happen in shallow copy"
   ]
  },
  {
   "cell_type": "code",
   "execution_count": 266,
   "id": "7d64d2de",
   "metadata": {},
   "outputs": [],
   "source": [
    "# but when we append to one list it does not append in another list as only the elements are refering\n",
    "\n",
    "lst1.append([2,34,5])"
   ]
  },
  {
   "cell_type": "code",
   "execution_count": 267,
   "id": "96cb9b8e",
   "metadata": {},
   "outputs": [
    {
     "data": {
      "text/plain": [
       "[[1, 2, 3, 5], [3, 24, 100, 2], [2, 4, 5], [2, 34, 5]]"
      ]
     },
     "execution_count": 267,
     "metadata": {},
     "output_type": "execute_result"
    }
   ],
   "source": [
    "lst1"
   ]
  },
  {
   "cell_type": "code",
   "execution_count": 268,
   "id": "0c2e9cbc",
   "metadata": {},
   "outputs": [
    {
     "data": {
      "text/plain": [
       "[[1, 2, 3, 5], [3, 24, 100, 2], [2, 4, 5]]"
      ]
     },
     "execution_count": 268,
     "metadata": {},
     "output_type": "execute_result"
    }
   ],
   "source": [
    "lst2"
   ]
  },
  {
   "cell_type": "code",
   "execution_count": 269,
   "id": "68800488",
   "metadata": {},
   "outputs": [],
   "source": [
    "# DEEP Copy \n",
    "\n",
    "import copy\n",
    "\n",
    "lst1=[1,24,5,6]"
   ]
  },
  {
   "cell_type": "code",
   "execution_count": 270,
   "id": "a7d55d22",
   "metadata": {},
   "outputs": [],
   "source": [
    "lst2=copy.deepcopy(lst1)"
   ]
  },
  {
   "cell_type": "code",
   "execution_count": 271,
   "id": "69b6adb5",
   "metadata": {},
   "outputs": [
    {
     "data": {
      "text/plain": [
       "[1, 24, 5, 6]"
      ]
     },
     "execution_count": 271,
     "metadata": {},
     "output_type": "execute_result"
    }
   ],
   "source": [
    "lst1"
   ]
  },
  {
   "cell_type": "code",
   "execution_count": 272,
   "id": "1dcc581c",
   "metadata": {},
   "outputs": [
    {
     "data": {
      "text/plain": [
       "[1, 24, 5, 6]"
      ]
     },
     "execution_count": 272,
     "metadata": {},
     "output_type": "execute_result"
    }
   ],
   "source": [
    "lst2"
   ]
  },
  {
   "cell_type": "code",
   "execution_count": 274,
   "id": "3767cb38",
   "metadata": {},
   "outputs": [],
   "source": [
    "lst1=[[1, 2, 3, 5], [3, 24, 100, 2], [2, 4, 5]]\n",
    "\n",
    "lst2=copy.deepcopy(lst1)"
   ]
  },
  {
   "cell_type": "code",
   "execution_count": 275,
   "id": "c84fa1ba",
   "metadata": {},
   "outputs": [
    {
     "data": {
      "text/plain": [
       "[[1, 2, 3, 5], [3, 24, 100, 2], [2, 4, 5]]"
      ]
     },
     "execution_count": 275,
     "metadata": {},
     "output_type": "execute_result"
    }
   ],
   "source": [
    "lst1"
   ]
  },
  {
   "cell_type": "code",
   "execution_count": 276,
   "id": "fd35ee44",
   "metadata": {},
   "outputs": [
    {
     "data": {
      "text/plain": [
       "[[1, 2, 3, 5], [3, 24, 100, 2], [2, 4, 5]]"
      ]
     },
     "execution_count": 276,
     "metadata": {},
     "output_type": "execute_result"
    }
   ],
   "source": [
    "lst2"
   ]
  },
  {
   "cell_type": "code",
   "execution_count": 278,
   "id": "1f80ae76",
   "metadata": {},
   "outputs": [],
   "source": [
    "lst1[1][3]=1000"
   ]
  },
  {
   "cell_type": "code",
   "execution_count": 279,
   "id": "a91a1d43",
   "metadata": {},
   "outputs": [
    {
     "data": {
      "text/plain": [
       "[[1, 2, 3, 5], [3, 24, 100, 1000], [2, 4, 5]]"
      ]
     },
     "execution_count": 279,
     "metadata": {},
     "output_type": "execute_result"
    }
   ],
   "source": [
    "lst1"
   ]
  },
  {
   "cell_type": "code",
   "execution_count": 280,
   "id": "3f803883",
   "metadata": {},
   "outputs": [
    {
     "data": {
      "text/plain": [
       "[[1, 2, 3, 5], [3, 24, 100, 2], [2, 4, 5]]"
      ]
     },
     "execution_count": 280,
     "metadata": {},
     "output_type": "execute_result"
    }
   ],
   "source": [
    "lst2"
   ]
  },
  {
   "cell_type": "code",
   "execution_count": 281,
   "id": "c39fd655",
   "metadata": {},
   "outputs": [],
   "source": [
    "# Here in deep copy we can see that there are no changes refelcted in lst 2 because it has created a copy and they are at different \n",
    "#memory location"
   ]
  },
  {
   "cell_type": "markdown",
   "id": "0a716203",
   "metadata": {},
   "source": [
    "# Class Methods And Class variables"
   ]
  },
  {
   "cell_type": "code",
   "execution_count": 289,
   "id": "2e73dfbe",
   "metadata": {},
   "outputs": [],
   "source": [
    "class car():\n",
    "    \n",
    "    base_price=10000   #this is call class variable\n",
    "    \n",
    "    def __init__(self,wheel,doors,power):\n",
    "        self.wheel=wheel\n",
    "        self.doors=doors\n",
    "        self.power=power\n",
    "        \n",
    "    def car_price(self):\n",
    "        print('this is the base price {}'.format(self.base_price))\n",
    "    "
   ]
  },
  {
   "cell_type": "code",
   "execution_count": 290,
   "id": "2a00b6d0",
   "metadata": {},
   "outputs": [],
   "source": [
    "ca1=car(2,4,1000)"
   ]
  },
  {
   "cell_type": "code",
   "execution_count": 291,
   "id": "b354ceab",
   "metadata": {},
   "outputs": [
    {
     "name": "stdout",
     "output_type": "stream",
     "text": [
      "this is the base price 10000\n"
     ]
    }
   ],
   "source": [
    "ca1.car_price()"
   ]
  },
  {
   "cell_type": "code",
   "execution_count": 292,
   "id": "dca05df8",
   "metadata": {},
   "outputs": [
    {
     "data": {
      "text/plain": [
       "10000"
      ]
     },
     "execution_count": 292,
     "metadata": {},
     "output_type": "execute_result"
    }
   ],
   "source": [
    "ca1.base_price   #this is way to access the class variable"
   ]
  },
  {
   "cell_type": "code",
   "execution_count": 318,
   "id": "6aef458b",
   "metadata": {},
   "outputs": [],
   "source": [
    "class car():\n",
    "    \n",
    "    base_price=10000   #this is call class variable\n",
    "    \n",
    "    def __init__(self,wheel,doors,power):\n",
    "        self.wheel=wheel\n",
    "        self.doors=doors\n",
    "        self.power=power\n",
    "        \n",
    "    def car_price(self):\n",
    "        print('this is the base price {}'.format(self.base_price))\n",
    "        \n",
    "    @classmethod                      #we can use this to initialse the method inside a class and can be directly call with the\n",
    "                                        #class name\n",
    "    def new_price(cls,addprice):\n",
    "        cls.base_price=cls.base_price+cls.base_price*addprice"
   ]
  },
  {
   "cell_type": "code",
   "execution_count": 320,
   "id": "4088044b",
   "metadata": {},
   "outputs": [],
   "source": [
    "car.new_price(0.20)   #the difference is we dont need to initailse a instance/object to the class to call/access the function \n",
    "                    #we can use @classmethod"
   ]
  },
  {
   "cell_type": "code",
   "execution_count": 322,
   "id": "76632c60",
   "metadata": {},
   "outputs": [
    {
     "data": {
      "text/plain": [
       "14400.0"
      ]
     },
     "execution_count": 322,
     "metadata": {},
     "output_type": "execute_result"
    }
   ],
   "source": [
    "car.base_price"
   ]
  },
  {
   "cell_type": "code",
   "execution_count": null,
   "id": "2ebead62",
   "metadata": {},
   "outputs": [],
   "source": []
  },
  {
   "cell_type": "markdown",
   "id": "fe5ba37a",
   "metadata": {},
   "source": [
    "# Static Method"
   ]
  },
  {
   "cell_type": "code",
   "execution_count": 327,
   "id": "f981d536",
   "metadata": {},
   "outputs": [],
   "source": [
    "class car():\n",
    "    \n",
    "    base_price=10000   #this is call class variable\n",
    "    \n",
    "    def __init__(self,wheel,doors,power):\n",
    "        self.wheel=wheel\n",
    "        self.doors=doors\n",
    "        self.power=power\n",
    "        \n",
    "    def car_price(self):\n",
    "        print('this is the base price {}'.format(self.base_price))\n",
    "        \n",
    "    @classmethod                      #we can use this to initialse the method inside a class and can be directly call with the\n",
    "                                        #class name\n",
    "    def new_price(cls,addprice):\n",
    "        cls.base_price=cls.base_price+cls.base_price*addprice\n",
    "        \n",
    "    \n",
    "    @staticmethod \n",
    "    \n",
    "    def check_year():\n",
    "        if now.year==2023:\n",
    "            return True\n",
    "        else:\n",
    "            return False"
   ]
  },
  {
   "cell_type": "code",
   "execution_count": 328,
   "id": "c3715b95",
   "metadata": {},
   "outputs": [],
   "source": [
    "import datetime\n",
    "now=datetime.datetime.now()"
   ]
  },
  {
   "cell_type": "code",
   "execution_count": 329,
   "id": "064f3c5e",
   "metadata": {},
   "outputs": [
    {
     "data": {
      "text/plain": [
       "2023"
      ]
     },
     "execution_count": 329,
     "metadata": {},
     "output_type": "execute_result"
    }
   ],
   "source": [
    "now.year"
   ]
  },
  {
   "cell_type": "code",
   "execution_count": 330,
   "id": "384c80aa",
   "metadata": {},
   "outputs": [
    {
     "data": {
      "text/plain": [
       "True"
      ]
     },
     "execution_count": 330,
     "metadata": {},
     "output_type": "execute_result"
    }
   ],
   "source": [
    "car.check_year()"
   ]
  },
  {
   "cell_type": "code",
   "execution_count": 331,
   "id": "77c8e8fe",
   "metadata": {},
   "outputs": [],
   "source": [
    "# Static method is the one which is called as soon as we call/initalise the class, the static method is the first to be call, \n",
    "#it is faster to call\n",
    "# Static will be called onces and it will run untill the programme is running and cannot create multiple copies of it"
   ]
  },
  {
   "cell_type": "markdown",
   "id": "2772ace3",
   "metadata": {},
   "source": [
    "# Eval Function\n",
    "\n",
    "This will basically execute any Python expression which is wriiten in string format "
   ]
  },
  {
   "cell_type": "code",
   "execution_count": 334,
   "id": "61c21112",
   "metadata": {},
   "outputs": [
    {
     "data": {
      "text/plain": [
       "28"
      ]
     },
     "execution_count": 334,
     "metadata": {},
     "output_type": "execute_result"
    }
   ],
   "source": [
    "eval('4*7')"
   ]
  },
  {
   "cell_type": "code",
   "execution_count": 335,
   "id": "08aa7219",
   "metadata": {},
   "outputs": [
    {
     "name": "stdout",
     "output_type": "stream",
     "text": [
      "Enter the python expression len([1,2,43])\n"
     ]
    },
    {
     "data": {
      "text/plain": [
       "3"
      ]
     },
     "execution_count": 335,
     "metadata": {},
     "output_type": "execute_result"
    }
   ],
   "source": [
    "eval(input(\"Enter the python expression \"))"
   ]
  },
  {
   "cell_type": "code",
   "execution_count": 338,
   "id": "21e608af",
   "metadata": {},
   "outputs": [
    {
     "name": "stdout",
     "output_type": "stream",
     "text": [
      "Enter the python expression sum([1,2,3])\n"
     ]
    },
    {
     "data": {
      "text/plain": [
       "6"
      ]
     },
     "execution_count": 338,
     "metadata": {},
     "output_type": "execute_result"
    }
   ],
   "source": [
    "eval(input(\"Enter the python expression \"))"
   ]
  },
  {
   "cell_type": "markdown",
   "id": "3c7cc2b9",
   "metadata": {},
   "source": [
    "### How does Eval work\n",
    "1. Parse python Expression\n",
    "2. compile into a byte code\n",
    "3. Evaluate the python expression\n",
    "4. It will return the result\n",
    "\n",
    "\n",
    "Eval have many security issue- one is it can execute python expression on instant which can slow down other process\n",
    "so, it is less prefreed"
   ]
  },
  {
   "cell_type": "code",
   "execution_count": 339,
   "id": "071d26e3",
   "metadata": {},
   "outputs": [],
   "source": [
    "\n",
    "var=compile(\"5*5\",\"<string>\",\"eval\") #here <string> is specifing the filename/format and eval is the function"
   ]
  },
  {
   "cell_type": "code",
   "execution_count": 342,
   "id": "599220e5",
   "metadata": {},
   "outputs": [
    {
     "data": {
      "text/plain": [
       "25"
      ]
     },
     "execution_count": 342,
     "metadata": {},
     "output_type": "execute_result"
    }
   ],
   "source": [
    "eval(var)"
   ]
  },
  {
   "cell_type": "code",
   "execution_count": 344,
   "id": "1b782f33",
   "metadata": {},
   "outputs": [],
   "source": [
    "# synatx\n",
    "\n",
    "#eval('expression','Global','local') # we have to initalise global and local varaible in key:value pair format(dictionary)"
   ]
  },
  {
   "cell_type": "code",
   "execution_count": 347,
   "id": "9b3a6784",
   "metadata": {},
   "outputs": [
    {
     "data": {
      "text/plain": [
       "10000"
      ]
     },
     "execution_count": 347,
     "metadata": {},
     "output_type": "execute_result"
    }
   ],
   "source": [
    "expression='x*y'\n",
    "\n",
    "x=100\n",
    "y=100\n",
    "\n",
    "eval(expression,{'x':x,'y':y})"
   ]
  },
  {
   "cell_type": "code",
   "execution_count": 348,
   "id": "567f8de8",
   "metadata": {},
   "outputs": [
    {
     "data": {
      "text/plain": [
       "1300"
      ]
     },
     "execution_count": 348,
     "metadata": {},
     "output_type": "execute_result"
    }
   ],
   "source": [
    "#local variable\n",
    "eval(\"a+b+c\",{},{\"a\":100,\"b\":200,\"c\":1000})"
   ]
  },
  {
   "cell_type": "code",
   "execution_count": 349,
   "id": "5deece0f",
   "metadata": {},
   "outputs": [
    {
     "ename": "NameError",
     "evalue": "name 'x' is not defined",
     "output_type": "error",
     "traceback": [
      "\u001b[1;31m---------------------------------------------------------------------------\u001b[0m",
      "\u001b[1;31mNameError\u001b[0m                                 Traceback (most recent call last)",
      "\u001b[1;32m<ipython-input-349-995be87c0340>\u001b[0m in \u001b[0;36m<module>\u001b[1;34m\u001b[0m\n\u001b[0;32m      3\u001b[0m \u001b[0mx\u001b[0m\u001b[1;33m=\u001b[0m\u001b[1;36m100\u001b[0m\u001b[1;33m\u001b[0m\u001b[1;33m\u001b[0m\u001b[0m\n\u001b[0;32m      4\u001b[0m \u001b[0my\u001b[0m\u001b[1;33m=\u001b[0m\u001b[1;36m100\u001b[0m\u001b[1;33m\u001b[0m\u001b[1;33m\u001b[0m\u001b[0m\n\u001b[1;32m----> 5\u001b[1;33m \u001b[0meval\u001b[0m\u001b[1;33m(\u001b[0m\u001b[1;34m\"x+y\"\u001b[0m\u001b[1;33m,\u001b[0m\u001b[1;33m{\u001b[0m\u001b[1;33m}\u001b[0m\u001b[1;33m,\u001b[0m\u001b[1;33m{\u001b[0m\u001b[1;33m}\u001b[0m\u001b[1;33m)\u001b[0m\u001b[1;33m\u001b[0m\u001b[1;33m\u001b[0m\u001b[0m\n\u001b[0m",
      "\u001b[1;32m<string>\u001b[0m in \u001b[0;36m<module>\u001b[1;34m\u001b[0m\n",
      "\u001b[1;31mNameError\u001b[0m: name 'x' is not defined"
     ]
    }
   ],
   "source": [
    "# one way to  reduce eval secuity issue is to not initailse global and local\n",
    "\n",
    "x=100\n",
    "y=100\n",
    "eval(\"x+y\",{},{})"
   ]
  },
  {
   "cell_type": "code",
   "execution_count": null,
   "id": "285dd7e9",
   "metadata": {},
   "outputs": [],
   "source": []
  },
  {
   "cell_type": "code",
   "execution_count": null,
   "id": "5e7c2b8c",
   "metadata": {},
   "outputs": [],
   "source": []
  }
 ],
 "metadata": {
  "kernelspec": {
   "display_name": "Python 3",
   "language": "python",
   "name": "python3"
  },
  "language_info": {
   "codemirror_mode": {
    "name": "ipython",
    "version": 3
   },
   "file_extension": ".py",
   "mimetype": "text/x-python",
   "name": "python",
   "nbconvert_exporter": "python",
   "pygments_lexer": "ipython3",
   "version": "3.7.9"
  }
 },
 "nbformat": 4,
 "nbformat_minor": 5
}
