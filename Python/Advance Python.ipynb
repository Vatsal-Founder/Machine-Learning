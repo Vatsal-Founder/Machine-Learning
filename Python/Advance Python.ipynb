{
 "cells": [
  {
   "cell_type": "markdown",
   "id": "faa0f68b",
   "metadata": {},
   "source": [
    "## Function"
   ]
  },
  {
   "cell_type": "code",
   "execution_count": 1,
   "id": "6cb3d70c",
   "metadata": {},
   "outputs": [
    {
     "name": "stdout",
     "output_type": "stream",
     "text": [
      "56 53\n"
     ]
    }
   ],
   "source": [
    "## If conditions  and for loops\n",
    "\n",
    "lst=[1,2,3,4,5,6,7,8,9,10,12,13,14,15]\n",
    "\n",
    "even_sum=0\n",
    "odd_sum=0\n",
    "for i in lst:\n",
    "    if i%2==0:\n",
    "        even_sum=even_sum+i\n",
    "    else:\n",
    "        odd_sum=odd_sum+i\n",
    "print(even_sum,odd_sum)\n",
    "        "
   ]
  },
  {
   "cell_type": "code",
   "execution_count": 2,
   "id": "8e182677",
   "metadata": {},
   "outputs": [],
   "source": [
    "def temp(a, age=23):\n",
    "    print('My name is {} and i am {} years old'.format(a,age))"
   ]
  },
  {
   "cell_type": "code",
   "execution_count": 3,
   "id": "0ef877eb",
   "metadata": {},
   "outputs": [
    {
     "name": "stdout",
     "output_type": "stream",
     "text": [
      "My name is sa and i am 23 years old\n"
     ]
    }
   ],
   "source": [
    "temp('sa')"
   ]
  },
  {
   "cell_type": "code",
   "execution_count": 19,
   "id": "8a8ef9fd",
   "metadata": {},
   "outputs": [],
   "source": [
    "def temp1(*args, **kwargs):  # so * will present position argument and ** will present the keyword argument\n",
    "    print(args)\n",
    "    print(kwargs)"
   ]
  },
  {
   "cell_type": "code",
   "execution_count": 20,
   "id": "972a2a54",
   "metadata": {},
   "outputs": [
    {
     "name": "stdout",
     "output_type": "stream",
     "text": [
      "(24, 'fs')\n",
      "{'age': 29, 'city': 'Madrid'}\n"
     ]
    }
   ],
   "source": [
    "temp1(24,'fs',age=29,city='Madrid') # Keyword argument are the ones in which we already specific value to argument "
   ]
  },
  {
   "cell_type": "code",
   "execution_count": 32,
   "id": "048afbe4",
   "metadata": {},
   "outputs": [],
   "source": [
    "def temp2(*dep, **kde):  # so * will present position argument and ** will present the keyword argument\n",
    "    print(dep)\n",
    "    print(*kde)  # we can give any name just that we need to give * and **"
   ]
  },
  {
   "cell_type": "code",
   "execution_count": 33,
   "id": "d6490a8e",
   "metadata": {},
   "outputs": [
    {
     "name": "stdout",
     "output_type": "stream",
     "text": [
      "(24, 'sfasfa')\n",
      "age city\n"
     ]
    }
   ],
   "source": [
    "temp2(24,'sfasfa',age=22,city='Madrid')"
   ]
  },
  {
   "cell_type": "markdown",
   "id": "d374303a",
   "metadata": {},
   "source": [
    "# Lambda Function\n",
    "\n",
    "This is faster than the normal function and has no name. This is useful if we have single line to return\n"
   ]
  },
  {
   "cell_type": "code",
   "execution_count": 35,
   "id": "80f3f675",
   "metadata": {},
   "outputs": [],
   "source": [
    "def add(a,b):\n",
    "    return a+b"
   ]
  },
  {
   "cell_type": "code",
   "execution_count": 36,
   "id": "bfa30c15",
   "metadata": {},
   "outputs": [
    {
     "data": {
      "text/plain": [
       "10"
      ]
     },
     "execution_count": 36,
     "metadata": {},
     "output_type": "execute_result"
    }
   ],
   "source": [
    "add(5,5)"
   ]
  },
  {
   "cell_type": "code",
   "execution_count": 37,
   "id": "8715060c",
   "metadata": {},
   "outputs": [],
   "source": [
    "add=lambda a,b:a*b"
   ]
  },
  {
   "cell_type": "code",
   "execution_count": 38,
   "id": "21b10262",
   "metadata": {},
   "outputs": [
    {
     "data": {
      "text/plain": [
       "8"
      ]
     },
     "execution_count": 38,
     "metadata": {},
     "output_type": "execute_result"
    }
   ],
   "source": [
    "add(2,4)"
   ]
  },
  {
   "cell_type": "code",
   "execution_count": 39,
   "id": "f4f9661e",
   "metadata": {},
   "outputs": [],
   "source": [
    "even= lambda num: num%2==0"
   ]
  },
  {
   "cell_type": "code",
   "execution_count": 40,
   "id": "e7fe4574",
   "metadata": {},
   "outputs": [
    {
     "data": {
      "text/plain": [
       "True"
      ]
     },
     "execution_count": 40,
     "metadata": {},
     "output_type": "execute_result"
    }
   ],
   "source": [
    "even(4)"
   ]
  },
  {
   "cell_type": "code",
   "execution_count": 41,
   "id": "47711433",
   "metadata": {},
   "outputs": [],
   "source": [
    "add3num =lambda a,b,c: a+b+c"
   ]
  },
  {
   "cell_type": "code",
   "execution_count": 42,
   "id": "809c1873",
   "metadata": {},
   "outputs": [
    {
     "data": {
      "text/plain": [
       "11"
      ]
     },
     "execution_count": 42,
     "metadata": {},
     "output_type": "execute_result"
    }
   ],
   "source": [
    "add3num(4,5,2)"
   ]
  },
  {
   "cell_type": "markdown",
   "id": "5b7a6c59",
   "metadata": {},
   "source": [
    "# Map Function"
   ]
  },
  {
   "cell_type": "code",
   "execution_count": 44,
   "id": "cd276a68",
   "metadata": {},
   "outputs": [],
   "source": [
    "def square(num):\n",
    "    if num%2==0:\n",
    "        return '{} is even'.format(num),num*num\n",
    "    else:\n",
    "        return '{} is odd'.format(num),num"
   ]
  },
  {
   "cell_type": "code",
   "execution_count": 46,
   "id": "7256841f",
   "metadata": {},
   "outputs": [],
   "source": [
    "lst=[2,4,1,3,9,10,59,17]"
   ]
  },
  {
   "cell_type": "code",
   "execution_count": 48,
   "id": "9f1119de",
   "metadata": {},
   "outputs": [
    {
     "data": {
      "text/plain": [
       "[('2 is even', 4),\n",
       " ('4 is even', 16),\n",
       " ('1 is odd', 1),\n",
       " ('3 is odd', 3),\n",
       " ('9 is odd', 9),\n",
       " ('10 is even', 100),\n",
       " ('59 is odd', 59),\n",
       " ('17 is odd', 17)]"
      ]
     },
     "execution_count": 48,
     "metadata": {},
     "output_type": "execute_result"
    }
   ],
   "source": [
    "list(map(square,lst)) # list will convert the map output into list "
   ]
  },
  {
   "cell_type": "code",
   "execution_count": null,
   "id": "6292a775",
   "metadata": {},
   "outputs": [],
   "source": []
  },
  {
   "cell_type": "markdown",
   "id": "08d99429",
   "metadata": {},
   "source": [
    "# Filter Function"
   ]
  },
  {
   "cell_type": "code",
   "execution_count": 72,
   "id": "8e28012a",
   "metadata": {},
   "outputs": [],
   "source": [
    "def multiple(num):\n",
    "    if num%2==0:\n",
    "        return True\n",
    "    "
   ]
  },
  {
   "cell_type": "code",
   "execution_count": 73,
   "id": "8ed76dcb",
   "metadata": {},
   "outputs": [],
   "source": [
    "lst=[1,2,3,4,5,6,7,8,0]"
   ]
  },
  {
   "cell_type": "code",
   "execution_count": 74,
   "id": "2876002b",
   "metadata": {},
   "outputs": [
    {
     "data": {
      "text/plain": [
       "[2, 4, 6, 8, 0]"
      ]
     },
     "execution_count": 74,
     "metadata": {},
     "output_type": "execute_result"
    }
   ],
   "source": [
    "list(filter(multiple,lst)) #filter elements which odds condiction true"
   ]
  },
  {
   "cell_type": "code",
   "execution_count": null,
   "id": "34469883",
   "metadata": {},
   "outputs": [],
   "source": []
  },
  {
   "cell_type": "markdown",
   "id": "e5fcbafb",
   "metadata": {},
   "source": [
    "# List comprehension\n",
    "\n",
    "It is a concise way of creating a list."
   ]
  },
  {
   "cell_type": "code",
   "execution_count": 75,
   "id": "d19d0359",
   "metadata": {},
   "outputs": [],
   "source": [
    "# Syntax [expression followed by for caluse, then zero or more for or if caluses]\n",
    "\n",
    "\n",
    "lst=[2,3,5,6,78,4]"
   ]
  },
  {
   "cell_type": "code",
   "execution_count": 76,
   "id": "1289d12e",
   "metadata": {},
   "outputs": [
    {
     "data": {
      "text/plain": [
       "[4, 36, 6084, 16]"
      ]
     },
     "execution_count": 76,
     "metadata": {},
     "output_type": "execute_result"
    }
   ],
   "source": [
    "[i*i for i in lst if i%2==0]"
   ]
  },
  {
   "cell_type": "code",
   "execution_count": 81,
   "id": "935ff960",
   "metadata": {},
   "outputs": [],
   "source": [
    "lst12=[i*i for i in lst]"
   ]
  },
  {
   "cell_type": "code",
   "execution_count": 82,
   "id": "e3a7e9c2",
   "metadata": {},
   "outputs": [
    {
     "data": {
      "text/plain": [
       "[4, 9, 25, 36, 6084, 16]"
      ]
     },
     "execution_count": 82,
     "metadata": {},
     "output_type": "execute_result"
    }
   ],
   "source": [
    "lst12"
   ]
  },
  {
   "cell_type": "markdown",
   "id": "88deae8a",
   "metadata": {},
   "source": [
    "# Iterables vs Iterators"
   ]
  },
  {
   "cell_type": "code",
   "execution_count": 83,
   "id": "82a4ce6d",
   "metadata": {},
   "outputs": [],
   "source": [
    "Lst=[2.3,5,2,4,7]"
   ]
  },
  {
   "cell_type": "code",
   "execution_count": 84,
   "id": "06a8d611",
   "metadata": {},
   "outputs": [
    {
     "name": "stdout",
     "output_type": "stream",
     "text": [
      "2.3\n",
      "5\n",
      "2\n",
      "4\n",
      "7\n"
     ]
    }
   ],
   "source": [
    "for i in Lst: #this is iterable \n",
    "    print (i)"
   ]
  },
  {
   "cell_type": "code",
   "execution_count": 93,
   "id": "18417f86",
   "metadata": {},
   "outputs": [],
   "source": [
    " lyt=iter(Lst) #this will convert list into iterator"
   ]
  },
  {
   "cell_type": "code",
   "execution_count": 94,
   "id": "fe79afed",
   "metadata": {},
   "outputs": [
    {
     "data": {
      "text/plain": [
       "2.3"
      ]
     },
     "execution_count": 94,
     "metadata": {},
     "output_type": "execute_result"
    }
   ],
   "source": [
    "# we can use next() to iterate at a time (single element ) of iterator\n",
    "\n",
    "next(lyt)"
   ]
  },
  {
   "cell_type": "code",
   "execution_count": 95,
   "id": "db795ecb",
   "metadata": {},
   "outputs": [
    {
     "data": {
      "text/plain": [
       "5"
      ]
     },
     "execution_count": 95,
     "metadata": {},
     "output_type": "execute_result"
    }
   ],
   "source": [
    "next(lyt)"
   ]
  },
  {
   "cell_type": "code",
   "execution_count": null,
   "id": "0996c930",
   "metadata": {},
   "outputs": [],
   "source": []
  },
  {
   "cell_type": "code",
   "execution_count": null,
   "id": "703d8420",
   "metadata": {},
   "outputs": [],
   "source": []
  },
  {
   "cell_type": "code",
   "execution_count": null,
   "id": "22140ce7",
   "metadata": {},
   "outputs": [],
   "source": []
  },
  {
   "cell_type": "code",
   "execution_count": null,
   "id": "19eaa395",
   "metadata": {},
   "outputs": [],
   "source": []
  },
  {
   "cell_type": "markdown",
   "id": "6a56225a",
   "metadata": {},
   "source": [
    "# OOPS "
   ]
  },
  {
   "cell_type": "code",
   "execution_count": 140,
   "id": "127fe4b2",
   "metadata": {},
   "outputs": [],
   "source": [
    "class student:\n",
    "    def _init_(self,name,age,marks):\n",
    "        self.name=name\n",
    "        self.age=age\n",
    "        self.marks=marks\n",
    "        \n",
    "    def addsub(self,sub):\n",
    "        self.subject=sub\n",
    "        return 'This is {name}  whose age is {age} and he scored {marks} in {subject} '.format(name=self.name, age=self.age, \n",
    "                                                                                                    marks=self.marks, subject=self.subject)"
   ]
  },
  {
   "cell_type": "code",
   "execution_count": 143,
   "id": "896e6f40",
   "metadata": {},
   "outputs": [],
   "source": [
    "std2= student()"
   ]
  },
  {
   "cell_type": "code",
   "execution_count": 144,
   "id": "7a14b9d7",
   "metadata": {},
   "outputs": [],
   "source": [
    "std2.name='vatsal'\n",
    "std2.age=23\n",
    "std2.marks=95"
   ]
  },
  {
   "cell_type": "code",
   "execution_count": 146,
   "id": "64f8a2df",
   "metadata": {},
   "outputs": [
    {
     "data": {
      "text/plain": [
       "'This is vatsal  whose age is 23 and he scored 95 '"
      ]
     },
     "execution_count": 146,
     "metadata": {},
     "output_type": "execute_result"
    }
   ],
   "source": [
    "std2.addsub"
   ]
  },
  {
   "cell_type": "code",
   "execution_count": null,
   "id": "02ef1350",
   "metadata": {},
   "outputs": [],
   "source": []
  }
 ],
 "metadata": {
  "kernelspec": {
   "display_name": "Python 3",
   "language": "python",
   "name": "python3"
  },
  "language_info": {
   "codemirror_mode": {
    "name": "ipython",
    "version": 3
   },
   "file_extension": ".py",
   "mimetype": "text/x-python",
   "name": "python",
   "nbconvert_exporter": "python",
   "pygments_lexer": "ipython3",
   "version": "3.7.9"
  }
 },
 "nbformat": 4,
 "nbformat_minor": 5
}
