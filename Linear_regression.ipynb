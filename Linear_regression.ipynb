{
  "metadata": {
    "kernelspec": {
      "name": "python",
      "display_name": "Python (Pyodide)",
      "language": "python"
    },
    "language_info": {
      "codemirror_mode": {
        "name": "python",
        "version": 3
      },
      "file_extension": ".py",
      "mimetype": "text/x-python",
      "name": "python",
      "nbconvert_exporter": "python",
      "pygments_lexer": "ipython3",
      "version": "3.8"
    }
  },
  "nbformat_minor": 4,
  "nbformat": 4,
  "cells": [
    {
      "cell_type": "code",
      "source": "import numpy as np\nimport pandas as pd",
      "metadata": {
        "trusted": true
      },
      "outputs": [],
      "execution_count": 18
    },
    {
      "cell_type": "code",
      "source": "import matplotlib.pyplot as plt\nimport numpy as np",
      "metadata": {
        "trusted": true
      },
      "outputs": [],
      "execution_count": 38
    },
    {
      "cell_type": "code",
      "source": "",
      "metadata": {
        "trusted": true
      },
      "outputs": [],
      "execution_count": 19
    },
    {
      "cell_type": "code",
      "source": "\n    ",
      "metadata": {
        "trusted": true
      },
      "outputs": [],
      "execution_count": 20
    },
    {
      "cell_type": "code",
      "source": "def gradient_descent(my_data, start_b, start_w, alpha, itera):\n    w=start_w\n    b=start_b\n    for i in range(itera):\n        w,b=step_gradient(w,b,my_data,alpha)\n    return [w,b]\n\ndef step_gradient(cur_w,cur_b,my_data,alpha):\n    N=len(my_data)\n    gradient_w=0\n    gradient_b=0\n    for i in range(0,len(my_data)):\n        x=my_data[i,0]\n        y=my_data[i,1]\n        gradient_w += -(2/N) * x * (y- (cur_w * x + cur_b))\n        gradient_b += -(2/N) * (y- (cur_w * x + cur_b))\n        \n    new_w=cur_w-(alpha*gradient_w)\n    new_b=cur_b-(alpha*gradient_b)\n    return [new_w,new_b]\n\n\ndef compute_error(w,b,my_data):\n    totalerror=0\n    for i in range(0,len(my_data)):\n        x=my_data[i,0]\n        y=my_data[i,1]\n        totalerror += (y-(w*x+b))** 2\n    return totalerror/float(len(my_data))\n\n\ndef run():\n    my_data = np.genfromtxt('data.csv', delimiter=',')\n    alpha=0.0001\n    itera=10000\n    inital_w=0\n    inital_b=0\n    print (\"Starting gradient descent at b = {0}, m = {1}, error = {2}\".format(inital_b, inital_w, compute_error(inital_b, inital_w, my_data)))\n    print (\"Running...\")\n    \n    [b, w] = gradient_descent(my_data, inital_b, inital_w, alpha, itera)\n    \n    print (\"After {0} iterations b = {1}, m = {2}, error = {3}\".format(itera, b, w, compute_error(b, w, my_data)))\n    graph(b,w)\n\ndef graph(b,w):\n    for i in range(0,len(my_data)):\n        x=my_data[i,0]\n        y=my_data[i,1]\n    y=my_data[i,1]\n    plt.scatter(my_data[:, 0].reshape(-1,1), y)\n    axes = plt.gca()\n    x_vals = np.array(axes.get_xlim()) \n    y_vals = w[0][0] +w[0][1]* x_vals #the line equation\n    plt.plot(x_vals, y_vals, '--')",
      "metadata": {
        "trusted": true
      },
      "outputs": [],
      "execution_count": 44
    },
    {
      "cell_type": "code",
      "source": "run()",
      "metadata": {
        "trusted": true
      },
      "outputs": [
        {
          "name": "stdout",
          "text": "Starting gradient descent at b = 0, m = 0, error = 5565.107834483211\nRunning...\nAfter 10000 iterations b = 1.4675440436333027, m = 0.6078985997054931, error = 112.31533427075733\n",
          "output_type": "stream"
        },
        {
          "ename": "<class 'NameError'>",
          "evalue": "name 'i' is not defined",
          "traceback": [
            "\u001b[0;31m---------------------------------------------------------------------------\u001b[0m",
            "\u001b[0;31mNameError\u001b[0m                                 Traceback (most recent call last)",
            "Cell \u001b[0;32mIn[45], line 1\u001b[0m\n\u001b[0;32m----> 1\u001b[0m \u001b[43mrun\u001b[49m\u001b[43m(\u001b[49m\u001b[43m)\u001b[49m\n",
            "Cell \u001b[0;32mIn[44], line 44\u001b[0m, in \u001b[0;36mrun\u001b[0;34m()\u001b[0m\n\u001b[1;32m     41\u001b[0m [b, w] \u001b[38;5;241m=\u001b[39m gradient_descent(my_data, inital_b, inital_w, alpha, itera)\n\u001b[1;32m     43\u001b[0m \u001b[38;5;28mprint\u001b[39m (\u001b[38;5;124m\"\u001b[39m\u001b[38;5;124mAfter \u001b[39m\u001b[38;5;132;01m{0}\u001b[39;00m\u001b[38;5;124m iterations b = \u001b[39m\u001b[38;5;132;01m{1}\u001b[39;00m\u001b[38;5;124m, m = \u001b[39m\u001b[38;5;132;01m{2}\u001b[39;00m\u001b[38;5;124m, error = \u001b[39m\u001b[38;5;132;01m{3}\u001b[39;00m\u001b[38;5;124m\"\u001b[39m\u001b[38;5;241m.\u001b[39mformat(itera, b, w, compute_error(b, w, my_data)))\n\u001b[0;32m---> 44\u001b[0m \u001b[43mgraph\u001b[49m\u001b[43m(\u001b[49m\u001b[43mb\u001b[49m\u001b[43m,\u001b[49m\u001b[43mw\u001b[49m\u001b[43m)\u001b[49m\n",
            "Cell \u001b[0;32mIn[44], line 47\u001b[0m, in \u001b[0;36mgraph\u001b[0;34m(b, w)\u001b[0m\n\u001b[1;32m     46\u001b[0m \u001b[38;5;28;01mdef\u001b[39;00m \u001b[38;5;21mgraph\u001b[39m(b,w):\n\u001b[0;32m---> 47\u001b[0m     y\u001b[38;5;241m=\u001b[39mmy_data[\u001b[43mi\u001b[49m,\u001b[38;5;241m1\u001b[39m]\n\u001b[1;32m     48\u001b[0m     plt\u001b[38;5;241m.\u001b[39mscatter(my_data[:, \u001b[38;5;241m0\u001b[39m]\u001b[38;5;241m.\u001b[39mreshape(\u001b[38;5;241m-\u001b[39m\u001b[38;5;241m1\u001b[39m,\u001b[38;5;241m1\u001b[39m), y)\n\u001b[1;32m     49\u001b[0m     axes \u001b[38;5;241m=\u001b[39m plt\u001b[38;5;241m.\u001b[39mgca()\n",
            "\u001b[0;31mNameError\u001b[0m: name 'i' is not defined"
          ],
          "output_type": "error"
        }
      ],
      "execution_count": 45
    },
    {
      "cell_type": "code",
      "source": "graph()",
      "metadata": {
        "trusted": true
      },
      "outputs": [
        {
          "ename": "<class 'TypeError'>",
          "evalue": "graph() missing 2 required positional arguments: 'b' and 'w'",
          "traceback": [
            "\u001b[0;31m---------------------------------------------------------------------------\u001b[0m",
            "\u001b[0;31mTypeError\u001b[0m                                 Traceback (most recent call last)",
            "Cell \u001b[0;32mIn[43], line 1\u001b[0m\n\u001b[0;32m----> 1\u001b[0m \u001b[43mgraph\u001b[49m\u001b[43m(\u001b[49m\u001b[43m)\u001b[49m\n",
            "\u001b[0;31mTypeError\u001b[0m: graph() missing 2 required positional arguments: 'b' and 'w'"
          ],
          "output_type": "error"
        }
      ],
      "execution_count": 43
    },
    {
      "cell_type": "code",
      "source": "",
      "metadata": {
        "trusted": true
      },
      "outputs": [
        {
          "ename": "<class 'NameError'>",
          "evalue": "name 'y' is not defined",
          "traceback": [
            "\u001b[0;31m---------------------------------------------------------------------------\u001b[0m",
            "\u001b[0;31mNameError\u001b[0m                                 Traceback (most recent call last)",
            "Cell \u001b[0;32mIn[39], line 1\u001b[0m\n\u001b[0;32m----> 1\u001b[0m plt\u001b[38;5;241m.\u001b[39mscatter(my_data[:, \u001b[38;5;241m0\u001b[39m]\u001b[38;5;241m.\u001b[39mreshape(\u001b[38;5;241m-\u001b[39m\u001b[38;5;241m1\u001b[39m,\u001b[38;5;241m1\u001b[39m), \u001b[43my\u001b[49m)\n\u001b[1;32m      2\u001b[0m axes \u001b[38;5;241m=\u001b[39m plt\u001b[38;5;241m.\u001b[39mgca()\n\u001b[1;32m      3\u001b[0m x_vals \u001b[38;5;241m=\u001b[39m np\u001b[38;5;241m.\u001b[39marray(axes\u001b[38;5;241m.\u001b[39mget_xlim()) \n",
            "\u001b[0;31mNameError\u001b[0m: name 'y' is not defined"
          ],
          "output_type": "error"
        }
      ],
      "execution_count": 39
    },
    {
      "cell_type": "code",
      "source": "",
      "metadata": {
        "trusted": true
      },
      "outputs": [],
      "execution_count": null
    }
  ]
}